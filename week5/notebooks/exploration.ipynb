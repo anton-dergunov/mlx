{
 "cells": [
  {
   "cell_type": "code",
   "execution_count": 19,
   "id": "411e43ca",
   "metadata": {},
   "outputs": [],
   "source": [
    "from datasets import load_dataset\n",
    "import numpy as np\n",
    "from tqdm.notebook import tqdm\n",
    "from collections import Counter, defaultdict"
   ]
  },
  {
   "cell_type": "code",
   "execution_count": 4,
   "id": "07627e42",
   "metadata": {},
   "outputs": [],
   "source": [
    "# Download the dataset\n",
    "dataset = load_dataset(\"danavery/urbansound8K\", split=\"train\")"
   ]
  },
  {
   "cell_type": "code",
   "execution_count": 17,
   "id": "64483593",
   "metadata": {},
   "outputs": [
    {
     "data": {
      "text/plain": [
       "Dataset({\n",
       "    features: ['audio', 'slice_file_name', 'fsID', 'start', 'end', 'salience', 'fold', 'classID', 'class'],\n",
       "    num_rows: 8732\n",
       "})"
      ]
     },
     "execution_count": 17,
     "metadata": {},
     "output_type": "execute_result"
    }
   ],
   "source": [
    "dataset"
   ]
  },
  {
   "cell_type": "code",
   "execution_count": 18,
   "id": "42d9e560",
   "metadata": {},
   "outputs": [
    {
     "name": "stderr",
     "output_type": "stream",
     "text": [
      "100%|██████████| 8732/8732 [00:38<00:00, 225.37it/s]\n"
     ]
    },
    {
     "name": "stdout",
     "output_type": "stream",
     "text": [
      "Length stats (seconds): min=0.05, max=4.04, avg=3.61, std=0.97\n",
      "Sampling rates in dataset: {48000, 96000, 22050, 16000, 44100, 192000, 32000, 24000, 8000, 11024, 11025}\n",
      "Salience counts: {1: 5702, 2: 3030}\n",
      "Fold counts: {5: 936, 10: 837, 2: 888, 6: 823, 1: 873, 9: 816, 7: 838, 4: 990, 3: 925, 8: 806}\n",
      "Class counts: {'dog_bark': 1000, 'children_playing': 1000, 'car_horn': 429, 'air_conditioner': 1000, 'street_music': 1000, 'gun_shot': 374, 'siren': 929, 'engine_idling': 1000, 'jackhammer': 1000, 'drilling': 1000}\n",
      "Per class, salience breakdown:\n",
      "  dog_bark: salience=1 (foreground): 645, salience=2 (background): 355\n",
      "  children_playing: salience=1 (foreground): 588, salience=2 (background): 412\n",
      "  car_horn: salience=1 (foreground): 153, salience=2 (background): 276\n",
      "  air_conditioner: salience=1 (foreground): 569, salience=2 (background): 431\n",
      "  street_music: salience=1 (foreground): 625, salience=2 (background): 375\n",
      "  gun_shot: salience=1 (foreground): 304, salience=2 (background): 70\n",
      "  siren: salience=1 (foreground): 269, salience=2 (background): 660\n",
      "  engine_idling: salience=1 (foreground): 916, salience=2 (background): 84\n",
      "  jackhammer: salience=1 (foreground): 731, salience=2 (background): 269\n",
      "  drilling: salience=1 (foreground): 902, salience=2 (background): 98\n"
     ]
    }
   ],
   "source": [
    "# Prepare containers\n",
    "lengths = []\n",
    "sampling_rates = set()\n",
    "salience_counts = Counter()\n",
    "fold_counts = Counter()\n",
    "class_counts = Counter()\n",
    "class_salience_counts = defaultdict(lambda: Counter())\n",
    "first_part_ids = []\n",
    "\n",
    "for row in tqdm(dataset, total=len(dataset)):\n",
    "    audio = row['audio']\n",
    "    length = len(audio['array']) / audio['sampling_rate']\n",
    "    lengths.append(length)\n",
    "    sampling_rates.add(audio['sampling_rate'])\n",
    "    salience_counts[row['salience']] += 1\n",
    "    fold_counts[row['fold']] += 1\n",
    "    class_counts[row['class']] += 1\n",
    "    class_salience_counts[row['class']][row['salience']] += 1\n",
    "    first_part = row['audio']['path'].split('-')[0]\n",
    "    first_part_ids.append(first_part)\n",
    "\n",
    "# Length stats\n",
    "min_length = np.min(lengths)\n",
    "max_length = np.max(lengths)\n",
    "avg_length = np.mean(lengths)\n",
    "std_length = np.std(lengths)\n",
    "\n",
    "print(f\"Length stats (seconds): min={min_length:.2f}, max={max_length:.2f}, avg={avg_length:.2f}, std={std_length:.2f}\")\n",
    "print(f\"Sampling rates in dataset: {sampling_rates}\")\n",
    "print(f\"Salience counts: {dict(salience_counts)}\")\n",
    "print(f\"Fold counts: {dict(fold_counts)}\")\n",
    "print(f\"Class counts: {dict(class_counts)}\")\n",
    "print(\"Per class, salience breakdown:\")\n",
    "for cls, sal_counts in class_salience_counts.items():\n",
    "    print(f\"  {cls}: salience=1 (foreground): {sal_counts[1]}, salience=2 (background): {sal_counts[2]}\")"
   ]
  },
  {
   "cell_type": "code",
   "execution_count": null,
   "id": "3bd025f0",
   "metadata": {},
   "outputs": [],
   "source": []
  }
 ],
 "metadata": {
  "kernelspec": {
   "display_name": "week5",
   "language": "python",
   "name": "python3"
  },
  "language_info": {
   "codemirror_mode": {
    "name": "ipython",
    "version": 3
   },
   "file_extension": ".py",
   "mimetype": "text/x-python",
   "name": "python",
   "nbconvert_exporter": "python",
   "pygments_lexer": "ipython3",
   "version": "3.11.9"
  }
 },
 "nbformat": 4,
 "nbformat_minor": 5
}
