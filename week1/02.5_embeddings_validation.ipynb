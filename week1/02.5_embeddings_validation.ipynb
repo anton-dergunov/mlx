{
 "cells": [
  {
   "cell_type": "code",
   "execution_count": 25,
   "id": "94b17eec",
   "metadata": {},
   "outputs": [
    {
     "name": "stdout",
     "output_type": "stream",
     "text": [
      "Note: you may need to restart the kernel to use updated packages.\n"
     ]
    }
   ],
   "source": [
    "%pip install --quiet datasets torch numpy scikit-learn wandb tqdm nbformat"
   ]
  },
  {
   "cell_type": "code",
   "execution_count": 15,
   "id": "ba7e549e",
   "metadata": {},
   "outputs": [
    {
     "name": "stdout",
     "output_type": "stream",
     "text": [
      "--2025-06-13 12:02:20--  http://nlp.stanford.edu/data/glove.6B.zip\n",
      "Resolving nlp.stanford.edu (nlp.stanford.edu)... 171.64.67.140\n",
      "Connecting to nlp.stanford.edu (nlp.stanford.edu)|171.64.67.140|:80... connected.\n",
      "HTTP request sent, awaiting response... 302 Found\n",
      "Location: https://nlp.stanford.edu/data/glove.6B.zip [following]\n",
      "--2025-06-13 12:02:20--  https://nlp.stanford.edu/data/glove.6B.zip\n",
      "Connecting to nlp.stanford.edu (nlp.stanford.edu)|171.64.67.140|:443... connected.\n",
      "HTTP request sent, awaiting response... 301 Moved Permanently\n",
      "Location: https://downloads.cs.stanford.edu/nlp/data/glove.6B.zip [following]\n",
      "--2025-06-13 12:02:21--  https://downloads.cs.stanford.edu/nlp/data/glove.6B.zip\n",
      "Resolving downloads.cs.stanford.edu (downloads.cs.stanford.edu)... 171.64.64.22\n",
      "Connecting to downloads.cs.stanford.edu (downloads.cs.stanford.edu)|171.64.64.22|:443... connected.\n",
      "WARNING: cannot verify downloads.cs.stanford.edu's certificate, issued by ‘CN=InCommon RSA Server CA 2,O=Internet2,C=US’:\n",
      "  Issued certificate has expired.\n",
      "HTTP request sent, awaiting response... 200 OK\n",
      "Length: 862182613 (822M) [application/zip]\n",
      "Saving to: ‘glove.6B.zip’\n",
      "\n",
      "glove.6B.zip        100%[===================>] 822.24M  1.49MB/s    in 4m 31s  \n",
      "\n",
      "2025-06-13 12:06:52 (3.03 MB/s) - ‘glove.6B.zip’ saved [862182613/862182613]\n",
      "\n",
      "Archive:  glove.6B.zip\n",
      "  inflating: glove.6B.50d.txt        \n",
      "  inflating: glove.6B.100d.txt       \n",
      "  inflating: glove.6B.200d.txt       \n",
      "  inflating: glove.6B.300d.txt       \n"
     ]
    }
   ],
   "source": [
    "!wget --no-check-certificate http://nlp.stanford.edu/data/glove.6B.zip\n",
    "!unzip glove.6B.zip"
   ]
  },
  {
   "cell_type": "code",
   "execution_count": 16,
   "id": "f138ba40",
   "metadata": {},
   "outputs": [],
   "source": [
    "import numpy as np\n",
    "import torch\n",
    "\n",
    "def load_glove_embeddings(glove_file_path, vocab_limit=None):\n",
    "    vocab = {}\n",
    "    vectors = []\n",
    "\n",
    "    with open(glove_file_path, 'r', encoding='utf-8') as f:\n",
    "        for idx, line in enumerate(f):\n",
    "            parts = line.strip().split()\n",
    "            if len(parts) < 10:\n",
    "                continue  # Skip bad lines\n",
    "\n",
    "            word = parts[0]\n",
    "            vec = np.array(parts[1:], dtype=np.float32)\n",
    "\n",
    "            vocab[word] = len(vectors)\n",
    "            vectors.append(vec)\n",
    "\n",
    "            if vocab_limit and len(vocab) >= vocab_limit:\n",
    "                break\n",
    "\n",
    "    embedding_weights = torch.tensor(np.stack(vectors))\n",
    "    return vocab, embedding_weights"
   ]
  },
  {
   "cell_type": "code",
   "execution_count": 28,
   "id": "c8979a31",
   "metadata": {},
   "outputs": [],
   "source": [
    "glove_vocab, glove_embedding_weights = load_glove_embeddings('glove.6B.100d.txt', vocab_limit=100000)"
   ]
  },
  {
   "cell_type": "code",
   "execution_count": 35,
   "id": "d0d761b3",
   "metadata": {},
   "outputs": [
    {
     "data": {
      "text/plain": [
       "100000"
      ]
     },
     "execution_count": 35,
     "metadata": {},
     "output_type": "execute_result"
    }
   ],
   "source": [
    "len(glove_vocab)"
   ]
  },
  {
   "cell_type": "code",
   "execution_count": 20,
   "id": "ba1960f3",
   "metadata": {},
   "outputs": [],
   "source": [
    "import torch\n",
    "import torch.nn as nn\n",
    "import torch.optim as optim\n",
    "from torch.utils.data import DataLoader, Dataset\n",
    "from datasets import load_dataset\n",
    "import numpy as np\n",
    "import wandb\n",
    "from tqdm import tqdm\n",
    "from sklearn.metrics import accuracy_score, classification_report\n",
    "from torch.nn import Embedding"
   ]
  },
  {
   "cell_type": "code",
   "execution_count": 19,
   "id": "044bf6e4",
   "metadata": {},
   "outputs": [
    {
     "name": "stdout",
     "output_type": "stream",
     "text": [
      "Device: mps\n"
     ]
    }
   ],
   "source": [
    "if torch.backends.mps.is_available():\n",
    "    device = torch.device(\"mps\")\n",
    "elif torch.cuda.is_available():\n",
    "    device = torch.device(\"cuda\")\n",
    "else:\n",
    "    device = torch.device(\"cpu\")\n",
    "\n",
    "print(\"Device:\", device)"
   ]
  },
  {
   "cell_type": "code",
   "execution_count": 5,
   "id": "05a70bfe",
   "metadata": {},
   "outputs": [
    {
     "name": "stderr",
     "output_type": "stream",
     "text": [
      "\u001b[34m\u001b[1mwandb\u001b[0m: Logging into wandb.ai. (Learn how to deploy a W&B server locally: https://wandb.me/wandb-server)\n",
      "\u001b[34m\u001b[1mwandb\u001b[0m: You can find your API key in your browser here: https://wandb.ai/authorize\n",
      "\u001b[34m\u001b[1mwandb\u001b[0m: Paste an API key from your profile and hit enter:\u001b[34m\u001b[1mwandb\u001b[0m: \u001b[33mWARNING\u001b[0m If you're specifying your api key in code, ensure this code is not shared publicly.\n",
      "\u001b[34m\u001b[1mwandb\u001b[0m: \u001b[33mWARNING\u001b[0m Consider setting the WANDB_API_KEY environment variable, or running `wandb login` from the command line.\n",
      "\u001b[34m\u001b[1mwandb\u001b[0m: No netrc file found, creating one.\n",
      "\u001b[34m\u001b[1mwandb\u001b[0m: Appending key for api.wandb.ai to your netrc file: /Users/anton/.netrc\n",
      "\u001b[34m\u001b[1mwandb\u001b[0m: Currently logged in as: \u001b[33madergunov-grotto\u001b[0m (\u001b[33madergunov-grotto-personal\u001b[0m) to \u001b[32mhttps://api.wandb.ai\u001b[0m. Use \u001b[1m`wandb login --relogin`\u001b[0m to force relogin\n"
     ]
    },
    {
     "data": {
      "text/plain": [
       "True"
      ]
     },
     "execution_count": 5,
     "metadata": {},
     "output_type": "execute_result"
    }
   ],
   "source": [
    "wandb.login()"
   ]
  },
  {
   "cell_type": "code",
   "execution_count": 41,
   "id": "7cc42b58",
   "metadata": {},
   "outputs": [],
   "source": [
    "def run_evaluation(vocab, embedding_weights):\n",
    "    # -------- CONFIG --------\n",
    "    embedding_dim = 100\n",
    "    batch_size = 64\n",
    "    max_length = 20\n",
    "    epochs = 5\n",
    "\n",
    "    # -------- WANDB INIT --------\n",
    "    wandb.init(project=\"embedding-eval\",\n",
    "        settings=wandb.Settings(silent=\"true\"),\n",
    "        config={\n",
    "            \"batch_size\": batch_size,\n",
    "            \"max_length\": max_length,\n",
    "            \"embedding_dim\": embedding_dim,\n",
    "            \"epochs\": epochs,\n",
    "        })\n",
    "\n",
    "    # -------- EMBEDDINGS --------\n",
    "    embedding_layer = nn.Embedding.from_pretrained(embedding_weights, freeze=False)\n",
    "\n",
    "    # -------- HELPERS --------\n",
    "    def tokenize(text, vocab, max_length=20):\n",
    "        tokens = text.lower().split()\n",
    "        indices = [vocab.get(tok, 0) for tok in tokens][:max_length]\n",
    "        if len(indices) < max_length:\n",
    "            indices += [0] * (max_length - len(indices))\n",
    "        return indices\n",
    "\n",
    "    class TextDataset(Dataset):\n",
    "        def __init__(self, texts, labels, vocab):\n",
    "            self.data = [tokenize(text, vocab, max_length) for text in texts]\n",
    "            self.labels = labels\n",
    "\n",
    "        def __len__(self):\n",
    "            return len(self.labels)\n",
    "\n",
    "        def __getitem__(self, idx):\n",
    "            return torch.tensor(self.data[idx]), torch.tensor(self.labels[idx])\n",
    "\n",
    "    class FFN(nn.Module):\n",
    "        def __init__(self, embedding_layer, hidden_dim=128, num_classes=2):\n",
    "            super().__init__()\n",
    "            self.embeddings = embedding_layer\n",
    "            self.fc1 = nn.Linear(embedding_dim, hidden_dim)\n",
    "            self.relu = nn.ReLU()\n",
    "            self.fc2 = nn.Linear(hidden_dim, num_classes)\n",
    "\n",
    "        def forward(self, x):\n",
    "            embedded = self.embeddings(x)                  # (B, L, D)\n",
    "            avg_embed = embedded.mean(dim=1)               # (B, D)\n",
    "            out = self.fc1(avg_embed)\n",
    "            out = self.relu(out)\n",
    "            out = self.fc2(out)\n",
    "            return out\n",
    "\n",
    "    def train_and_evaluate(model, train_loader, val_loader, num_classes=2):\n",
    "        model = model.to(device)\n",
    "        criterion = nn.CrossEntropyLoss()\n",
    "        optimizer = optim.Adam(model.parameters(), lr=1e-3)\n",
    "\n",
    "        for epoch in range(epochs):\n",
    "            model.train()\n",
    "            for inputs, targets in train_loader:\n",
    "                inputs, targets = inputs.to(device), targets.to(device)\n",
    "                optimizer.zero_grad()\n",
    "                outputs = model(inputs)\n",
    "                loss = criterion(outputs, targets)\n",
    "                loss.backward()\n",
    "                optimizer.step()\n",
    "\n",
    "        model.eval()\n",
    "        all_preds, all_labels = [], []\n",
    "\n",
    "        with torch.no_grad():\n",
    "            for inputs, targets in val_loader:\n",
    "                inputs = inputs.to(device)\n",
    "                outputs = model(inputs)\n",
    "                preds = torch.argmax(outputs, dim=1).cpu().numpy()\n",
    "                all_preds.extend(preds)\n",
    "                all_labels.extend(targets.numpy())\n",
    "\n",
    "        acc = accuracy_score(all_labels, all_preds)\n",
    "        report = classification_report(all_labels, all_preds, output_dict=True)\n",
    "\n",
    "        wandb.log({\n",
    "            \"accuracy\": acc,\n",
    "            \"precision_macro\": report['macro avg']['precision'],\n",
    "            \"recall_macro\": report['macro avg']['recall'],\n",
    "            \"f1_macro\": report['macro avg']['f1-score'],\n",
    "        })\n",
    "\n",
    "        print(f\"Accuracy: {acc:.4f}\")\n",
    "        return acc\n",
    "\n",
    "    # -------- RUNNER --------\n",
    "    def run_on_dataset(name, subset=None, split_name=\"train\", text_key=\"text\", label_key=\"label\", num_classes=2):\n",
    "        print(f\"📦 Loading {name}\" + (f\"/{subset}\" if subset else \"\"))\n",
    "        if subset:\n",
    "            ds = load_dataset(name, subset)\n",
    "        else:\n",
    "            ds = load_dataset(name)\n",
    "        train_texts = ds[split_name][text_key][:4000]\n",
    "        val_texts = ds[\"validation\" if \"validation\" in ds else \"test\"][text_key][:1000]\n",
    "        train_labels = ds[split_name][label_key][:4000]\n",
    "        val_labels = ds[\"validation\" if \"validation\" in ds else \"test\"][label_key][:1000]\n",
    "\n",
    "        train_ds = TextDataset(train_texts, train_labels, vocab)\n",
    "        val_ds = TextDataset(val_texts, val_labels, vocab)\n",
    "\n",
    "        train_loader = DataLoader(train_ds, batch_size=batch_size, shuffle=True)\n",
    "        val_loader = DataLoader(val_ds, batch_size=batch_size)\n",
    "\n",
    "        model = FFN(embedding_layer, num_classes=num_classes)\n",
    "        return train_and_evaluate(model, train_loader, val_loader, num_classes=num_classes)\n",
    "\n",
    "    # -------- RUN TESTS --------\n",
    "    datasets_to_test = [\n",
    "        {\"name\": \"glue\", \"subset\": \"sst2\", \"text_key\": \"sentence\", \"label_key\": \"label\", \"num_classes\": 2},\n",
    "        {\"name\": \"trec\", \"text_key\": \"text\", \"label_key\": \"coarse_label\", \"num_classes\": 6},\n",
    "        {\"name\": \"ag_news\", \"text_key\": \"text\", \"label_key\": \"label\", \"num_classes\": 4},\n",
    "    ]\n",
    "\n",
    "    for ds in datasets_to_test:\n",
    "        wandb.run.name = f\"embedding_test_{ds['name']}\"\n",
    "        if \"subset\" in ds:\n",
    "            acc = run_on_dataset(\n",
    "                name=ds[\"name\"],\n",
    "                subset=ds[\"subset\"],\n",
    "                text_key=ds[\"text_key\"],\n",
    "                label_key=ds[\"label_key\"],\n",
    "                num_classes=ds[\"num_classes\"]\n",
    "            )\n",
    "        else:\n",
    "            acc = run_on_dataset(\n",
    "                name=ds[\"name\"],\n",
    "                text_key=ds[\"text_key\"],\n",
    "                label_key=ds[\"label_key\"],\n",
    "                num_classes=ds[\"num_classes\"]\n",
    "            )\n",
    "        print(f\"{ds['name']} accuracy: {acc:.4f}\")\n",
    "\n",
    "    print(\"View run at:\", wandb.run.get_url())\n",
    "    wandb.finish()\n"
   ]
  },
  {
   "cell_type": "code",
   "execution_count": 29,
   "id": "10df3feb",
   "metadata": {},
   "outputs": [
    {
     "data": {
      "text/html": [
       "Tracking run with wandb version 0.20.1"
      ],
      "text/plain": [
       "<IPython.core.display.HTML object>"
      ]
     },
     "metadata": {},
     "output_type": "display_data"
    },
    {
     "data": {
      "text/html": [
       "Run data is saved locally in <code>/Users/anton/mlx/src/week1/wandb/run-20250613_124301-7a1rjcyn</code>"
      ],
      "text/plain": [
       "<IPython.core.display.HTML object>"
      ]
     },
     "metadata": {},
     "output_type": "display_data"
    },
    {
     "data": {
      "text/html": [
       "Syncing run <strong><a href='https://wandb.ai/adergunov-grotto-personal/embedding-eval/runs/7a1rjcyn' target=\"_blank\">confused-star-5</a></strong> to <a href='https://wandb.ai/adergunov-grotto-personal/embedding-eval' target=\"_blank\">Weights & Biases</a> (<a href='https://wandb.me/developer-guide' target=\"_blank\">docs</a>)<br>"
      ],
      "text/plain": [
       "<IPython.core.display.HTML object>"
      ]
     },
     "metadata": {},
     "output_type": "display_data"
    },
    {
     "data": {
      "text/html": [
       " View project at <a href='https://wandb.ai/adergunov-grotto-personal/embedding-eval' target=\"_blank\">https://wandb.ai/adergunov-grotto-personal/embedding-eval</a>"
      ],
      "text/plain": [
       "<IPython.core.display.HTML object>"
      ]
     },
     "metadata": {},
     "output_type": "display_data"
    },
    {
     "data": {
      "text/html": [
       " View run at <a href='https://wandb.ai/adergunov-grotto-personal/embedding-eval/runs/7a1rjcyn' target=\"_blank\">https://wandb.ai/adergunov-grotto-personal/embedding-eval/runs/7a1rjcyn</a>"
      ],
      "text/plain": [
       "<IPython.core.display.HTML object>"
      ]
     },
     "metadata": {},
     "output_type": "display_data"
    },
    {
     "name": "stdout",
     "output_type": "stream",
     "text": [
      "📦 Loading glue/sst2\n",
      "Accuracy: 0.7569\n",
      "glue accuracy: 0.7569\n",
      "📦 Loading trec\n"
     ]
    },
    {
     "name": "stderr",
     "output_type": "stream",
     "text": [
      "/opt/anaconda3/envs/ml/lib/python3.11/site-packages/sklearn/metrics/_classification.py:1565: UndefinedMetricWarning: Precision is ill-defined and being set to 0.0 in labels with no predicted samples. Use `zero_division` parameter to control this behavior.\n",
      "  _warn_prf(average, modifier, f\"{metric.capitalize()} is\", len(result))\n",
      "/opt/anaconda3/envs/ml/lib/python3.11/site-packages/sklearn/metrics/_classification.py:1565: UndefinedMetricWarning: Precision is ill-defined and being set to 0.0 in labels with no predicted samples. Use `zero_division` parameter to control this behavior.\n",
      "  _warn_prf(average, modifier, f\"{metric.capitalize()} is\", len(result))\n",
      "/opt/anaconda3/envs/ml/lib/python3.11/site-packages/sklearn/metrics/_classification.py:1565: UndefinedMetricWarning: Precision is ill-defined and being set to 0.0 in labels with no predicted samples. Use `zero_division` parameter to control this behavior.\n",
      "  _warn_prf(average, modifier, f\"{metric.capitalize()} is\", len(result))\n"
     ]
    },
    {
     "name": "stdout",
     "output_type": "stream",
     "text": [
      "Accuracy: 0.7440\n",
      "trec accuracy: 0.7440\n",
      "📦 Loading ag_news\n",
      "Accuracy: 0.8380\n",
      "ag_news accuracy: 0.8380\n"
     ]
    },
    {
     "data": {
      "text/html": [],
      "text/plain": [
       "<IPython.core.display.HTML object>"
      ]
     },
     "metadata": {},
     "output_type": "display_data"
    },
    {
     "data": {
      "text/html": [
       "<br>    <style><br>        .wandb-row {<br>            display: flex;<br>            flex-direction: row;<br>            flex-wrap: wrap;<br>            justify-content: flex-start;<br>            width: 100%;<br>        }<br>        .wandb-col {<br>            display: flex;<br>            flex-direction: column;<br>            flex-basis: 100%;<br>            flex: 1;<br>            padding: 10px;<br>        }<br>    </style><br><div class=\"wandb-row\"><div class=\"wandb-col\"><h3>Run history:</h3><br/><table class=\"wandb\"><tr><td>accuracy</td><td>▂▁█</td></tr><tr><td>f1_macro</td><td>▆▁█</td></tr><tr><td>precision_macro</td><td>▆▁█</td></tr><tr><td>recall_macro</td><td>▅▁█</td></tr></table><br/></div><div class=\"wandb-col\"><h3>Run summary:</h3><br/><table class=\"wandb\"><tr><td>accuracy</td><td>0.838</td></tr><tr><td>f1_macro</td><td>0.83165</td></tr><tr><td>precision_macro</td><td>0.83653</td></tr><tr><td>recall_macro</td><td>0.82973</td></tr></table><br/></div></div>"
      ],
      "text/plain": [
       "<IPython.core.display.HTML object>"
      ]
     },
     "metadata": {},
     "output_type": "display_data"
    },
    {
     "data": {
      "text/html": [
       " View run <strong style=\"color:#cdcd00\">embedding_test_ag_news</strong> at: <a href='https://wandb.ai/adergunov-grotto-personal/embedding-eval/runs/7a1rjcyn' target=\"_blank\">https://wandb.ai/adergunov-grotto-personal/embedding-eval/runs/7a1rjcyn</a><br> View project at: <a href='https://wandb.ai/adergunov-grotto-personal/embedding-eval' target=\"_blank\">https://wandb.ai/adergunov-grotto-personal/embedding-eval</a><br>Synced 5 W&B file(s), 0 media file(s), 0 artifact file(s) and 0 other file(s)"
      ],
      "text/plain": [
       "<IPython.core.display.HTML object>"
      ]
     },
     "metadata": {},
     "output_type": "display_data"
    },
    {
     "data": {
      "text/html": [
       "Find logs at: <code>./wandb/run-20250613_124301-7a1rjcyn/logs</code>"
      ],
      "text/plain": [
       "<IPython.core.display.HTML object>"
      ]
     },
     "metadata": {},
     "output_type": "display_data"
    }
   ],
   "source": [
    "run_evaluation(glove_vocab, glove_embedding_weights)"
   ]
  },
  {
   "cell_type": "code",
   "execution_count": 33,
   "id": "61471f89",
   "metadata": {},
   "outputs": [],
   "source": [
    "checkpoint = torch.load(\"../../data/cbow_final_with_vocab.pt\", map_location=torch.device('cpu'))\n",
    "my_vocab = checkpoint['word2idx']\n",
    "my_embedding_weights = checkpoint['model_state_dict']['embeddings.weight']"
   ]
  },
  {
   "cell_type": "code",
   "execution_count": 34,
   "id": "ba0913e9",
   "metadata": {},
   "outputs": [
    {
     "data": {
      "text/html": [
       "Tracking run with wandb version 0.20.1"
      ],
      "text/plain": [
       "<IPython.core.display.HTML object>"
      ]
     },
     "metadata": {},
     "output_type": "display_data"
    },
    {
     "data": {
      "text/html": [
       "Run data is saved locally in <code>/Users/anton/mlx/src/week1/wandb/run-20250613_124826-tcshldtv</code>"
      ],
      "text/plain": [
       "<IPython.core.display.HTML object>"
      ]
     },
     "metadata": {},
     "output_type": "display_data"
    },
    {
     "data": {
      "text/html": [
       "Syncing run <strong><a href='https://wandb.ai/adergunov-grotto-personal/embedding-eval/runs/tcshldtv' target=\"_blank\">ethereal-sponge-6</a></strong> to <a href='https://wandb.ai/adergunov-grotto-personal/embedding-eval' target=\"_blank\">Weights & Biases</a> (<a href='https://wandb.me/developer-guide' target=\"_blank\">docs</a>)<br>"
      ],
      "text/plain": [
       "<IPython.core.display.HTML object>"
      ]
     },
     "metadata": {},
     "output_type": "display_data"
    },
    {
     "data": {
      "text/html": [
       " View project at <a href='https://wandb.ai/adergunov-grotto-personal/embedding-eval' target=\"_blank\">https://wandb.ai/adergunov-grotto-personal/embedding-eval</a>"
      ],
      "text/plain": [
       "<IPython.core.display.HTML object>"
      ]
     },
     "metadata": {},
     "output_type": "display_data"
    },
    {
     "data": {
      "text/html": [
       " View run at <a href='https://wandb.ai/adergunov-grotto-personal/embedding-eval/runs/tcshldtv' target=\"_blank\">https://wandb.ai/adergunov-grotto-personal/embedding-eval/runs/tcshldtv</a>"
      ],
      "text/plain": [
       "<IPython.core.display.HTML object>"
      ]
     },
     "metadata": {},
     "output_type": "display_data"
    },
    {
     "name": "stdout",
     "output_type": "stream",
     "text": [
      "📦 Loading glue/sst2\n",
      "Accuracy: 0.7511\n",
      "glue accuracy: 0.7511\n",
      "📦 Loading trec\n"
     ]
    },
    {
     "name": "stderr",
     "output_type": "stream",
     "text": [
      "/opt/anaconda3/envs/ml/lib/python3.11/site-packages/sklearn/metrics/_classification.py:1565: UndefinedMetricWarning: Precision is ill-defined and being set to 0.0 in labels with no predicted samples. Use `zero_division` parameter to control this behavior.\n",
      "  _warn_prf(average, modifier, f\"{metric.capitalize()} is\", len(result))\n",
      "/opt/anaconda3/envs/ml/lib/python3.11/site-packages/sklearn/metrics/_classification.py:1565: UndefinedMetricWarning: Precision is ill-defined and being set to 0.0 in labels with no predicted samples. Use `zero_division` parameter to control this behavior.\n",
      "  _warn_prf(average, modifier, f\"{metric.capitalize()} is\", len(result))\n",
      "/opt/anaconda3/envs/ml/lib/python3.11/site-packages/sklearn/metrics/_classification.py:1565: UndefinedMetricWarning: Precision is ill-defined and being set to 0.0 in labels with no predicted samples. Use `zero_division` parameter to control this behavior.\n",
      "  _warn_prf(average, modifier, f\"{metric.capitalize()} is\", len(result))\n"
     ]
    },
    {
     "name": "stdout",
     "output_type": "stream",
     "text": [
      "Accuracy: 0.7080\n",
      "trec accuracy: 0.7080\n",
      "📦 Loading ag_news\n",
      "Accuracy: 0.8030\n",
      "ag_news accuracy: 0.8030\n"
     ]
    },
    {
     "data": {
      "text/html": [],
      "text/plain": [
       "<IPython.core.display.HTML object>"
      ]
     },
     "metadata": {},
     "output_type": "display_data"
    },
    {
     "data": {
      "text/html": [
       "<br>    <style><br>        .wandb-row {<br>            display: flex;<br>            flex-direction: row;<br>            flex-wrap: wrap;<br>            justify-content: flex-start;<br>            width: 100%;<br>        }<br>        .wandb-col {<br>            display: flex;<br>            flex-direction: column;<br>            flex-basis: 100%;<br>            flex: 1;<br>            padding: 10px;<br>        }<br>    </style><br><div class=\"wandb-row\"><div class=\"wandb-col\"><h3>Run history:</h3><br/><table class=\"wandb\"><tr><td>accuracy</td><td>▄▁█</td></tr><tr><td>f1_macro</td><td>▆▁█</td></tr><tr><td>precision_macro</td><td>▆▁█</td></tr><tr><td>recall_macro</td><td>▆▁█</td></tr></table><br/></div><div class=\"wandb-col\"><h3>Run summary:</h3><br/><table class=\"wandb\"><tr><td>accuracy</td><td>0.803</td></tr><tr><td>f1_macro</td><td>0.79488</td></tr><tr><td>precision_macro</td><td>0.79794</td></tr><tr><td>recall_macro</td><td>0.79397</td></tr></table><br/></div></div>"
      ],
      "text/plain": [
       "<IPython.core.display.HTML object>"
      ]
     },
     "metadata": {},
     "output_type": "display_data"
    },
    {
     "data": {
      "text/html": [
       " View run <strong style=\"color:#cdcd00\">embedding_test_ag_news</strong> at: <a href='https://wandb.ai/adergunov-grotto-personal/embedding-eval/runs/tcshldtv' target=\"_blank\">https://wandb.ai/adergunov-grotto-personal/embedding-eval/runs/tcshldtv</a><br> View project at: <a href='https://wandb.ai/adergunov-grotto-personal/embedding-eval' target=\"_blank\">https://wandb.ai/adergunov-grotto-personal/embedding-eval</a><br>Synced 5 W&B file(s), 0 media file(s), 0 artifact file(s) and 0 other file(s)"
      ],
      "text/plain": [
       "<IPython.core.display.HTML object>"
      ]
     },
     "metadata": {},
     "output_type": "display_data"
    },
    {
     "data": {
      "text/html": [
       "Find logs at: <code>./wandb/run-20250613_124826-tcshldtv/logs</code>"
      ],
      "text/plain": [
       "<IPython.core.display.HTML object>"
      ]
     },
     "metadata": {},
     "output_type": "display_data"
    }
   ],
   "source": [
    "run_evaluation(my_vocab, my_embedding_weights)"
   ]
  },
  {
   "cell_type": "code",
   "execution_count": 37,
   "id": "a8a1e2f3",
   "metadata": {},
   "outputs": [],
   "source": [
    "random_embeddings = torch.randn_like(my_embedding_weights)"
   ]
  },
  {
   "cell_type": "code",
   "execution_count": 42,
   "id": "e7708406",
   "metadata": {},
   "outputs": [
    {
     "name": "stdout",
     "output_type": "stream",
     "text": [
      "📦 Loading glue/sst2\n",
      "Accuracy: 0.6548\n",
      "glue accuracy: 0.6548\n",
      "📦 Loading trec\n"
     ]
    },
    {
     "name": "stderr",
     "output_type": "stream",
     "text": [
      "/opt/anaconda3/envs/ml/lib/python3.11/site-packages/sklearn/metrics/_classification.py:1565: UndefinedMetricWarning: Precision is ill-defined and being set to 0.0 in labels with no predicted samples. Use `zero_division` parameter to control this behavior.\n",
      "  _warn_prf(average, modifier, f\"{metric.capitalize()} is\", len(result))\n",
      "/opt/anaconda3/envs/ml/lib/python3.11/site-packages/sklearn/metrics/_classification.py:1565: UndefinedMetricWarning: Precision is ill-defined and being set to 0.0 in labels with no predicted samples. Use `zero_division` parameter to control this behavior.\n",
      "  _warn_prf(average, modifier, f\"{metric.capitalize()} is\", len(result))\n",
      "/opt/anaconda3/envs/ml/lib/python3.11/site-packages/sklearn/metrics/_classification.py:1565: UndefinedMetricWarning: Precision is ill-defined and being set to 0.0 in labels with no predicted samples. Use `zero_division` parameter to control this behavior.\n",
      "  _warn_prf(average, modifier, f\"{metric.capitalize()} is\", len(result))\n"
     ]
    },
    {
     "name": "stdout",
     "output_type": "stream",
     "text": [
      "Accuracy: 0.5220\n",
      "trec accuracy: 0.5220\n",
      "📦 Loading ag_news\n"
     ]
    },
    {
     "name": "stderr",
     "output_type": "stream",
     "text": [
      "\u001b[34m\u001b[1mwandb\u001b[0m: \u001b[33mWARNING\u001b[0m The get_url method is deprecated and will be removed in a future release. Please use `run.url` instead.\n"
     ]
    },
    {
     "name": "stdout",
     "output_type": "stream",
     "text": [
      "Accuracy: 0.6750\n",
      "ag_news accuracy: 0.6750\n",
      "View run at: https://wandb.ai/adergunov-grotto-personal/embedding-eval/runs/3gu43e9i\n"
     ]
    }
   ],
   "source": [
    "run_evaluation(my_vocab, random_embeddings)"
   ]
  },
  {
   "cell_type": "code",
   "execution_count": null,
   "id": "4939b850",
   "metadata": {},
   "outputs": [],
   "source": []
  }
 ],
 "metadata": {
  "kernelspec": {
   "display_name": "ml",
   "language": "python",
   "name": "python3"
  },
  "language_info": {
   "codemirror_mode": {
    "name": "ipython",
    "version": 3
   },
   "file_extension": ".py",
   "mimetype": "text/x-python",
   "name": "python",
   "nbconvert_exporter": "python",
   "pygments_lexer": "ipython3",
   "version": "3.11.9"
  }
 },
 "nbformat": 4,
 "nbformat_minor": 5
}
