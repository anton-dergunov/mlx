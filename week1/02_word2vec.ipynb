{
  "cells": [
    {
      "cell_type": "code",
      "execution_count": 1,
      "id": "cdfe6fc3",
      "metadata": {
        "id": "cdfe6fc3"
      },
      "outputs": [],
      "source": [
        "!pip install --quiet huggingface_hub"
      ]
    },
    {
      "cell_type": "code",
      "execution_count": 72,
      "id": "0680f4e9",
      "metadata": {
        "id": "0680f4e9"
      },
      "outputs": [],
      "source": [
        "import torch\n",
        "import torch.nn as nn\n",
        "import torch.utils.data as data\n",
        "from torch.utils.data import Dataset, DataLoader\n",
        "import torch.optim as optim\n",
        "from tqdm.notebook import tqdm\n",
        "from collections import Counter\n",
        "import huggingface_hub\n",
        "import os\n",
        "import warnings\n",
        "import time"
      ]
    },
    {
      "cell_type": "code",
      "execution_count": 73,
      "id": "5cef6344",
      "metadata": {
        "colab": {
          "referenced_widgets": [
            "421ce2c7d68445648f1e157ce9eb0596"
          ]
        },
        "id": "5cef6344",
        "outputId": "c5f37dc1-f809-412d-f2ec-40f3984b41a1"
      },
      "outputs": [],
      "source": [
        "# Login is optional for public models\n",
        "# huggingface_hub.login()"
      ]
    },
    {
      "cell_type": "code",
      "execution_count": 69,
      "id": "fba384b6",
      "metadata": {
        "colab": {
          "base_uri": "https://localhost:8080/",
          "height": 191,
          "referenced_widgets": [
            "0e3e6c3ad730429caf6cb646a1e00704",
            "7b4c901838d84fd689c6f6d74c487b61",
            "9c5518e72262453e91b2239074b594a4",
            "13acc1a7475d41d1b3ec3526c9fa0058",
            "d9e18e840ec74f88b1cdc042116e2e27",
            "2df17dd593a44db1ade6ea70d307a806",
            "e74644fd4df04c698c346b3d72a9db2f",
            "d5b9b118033e49de86e75ebc186b87c1",
            "8a8660462e04445e8be5a9d91ed12d57",
            "5c740ada165847bb922d42baba033dd4",
            "2d92be52907442e89bc2efbaf37c2ce6"
          ]
        },
        "id": "fba384b6",
        "outputId": "ac47fd87-0e39-4546-c2c6-8d62779451a9"
      },
      "outputs": [
        {
          "name": "stdout",
          "output_type": "stream",
          "text": [
            "File downloaded to: text8\n"
          ]
        }
      ],
      "source": [
        "with warnings.catch_warnings():\n",
        "    warnings.simplefilter(\"ignore\")  # Ignore warning to create a token\n",
        "    corpus_file_path = huggingface_hub.hf_hub_download(\n",
        "        repo_id=\"ardMLX/text8\",\n",
        "        filename=\"text8\",\n",
        "        repo_type=\"dataset\",\n",
        "        local_dir=\".\"\n",
        "    )\n",
        "\n",
        "print(f\"File downloaded to: {corpus_file_path}\")"
      ]
    },
    {
      "cell_type": "code",
      "execution_count": 74,
      "id": "9ef49ad5",
      "metadata": {
        "colab": {
          "base_uri": "https://localhost:8080/"
        },
        "id": "9ef49ad5",
        "outputId": "d9a494d1-0983-4506-99bf-9da31fe6ba51"
      },
      "outputs": [
        {
          "name": "stdout",
          "output_type": "stream",
          "text": [
            "Device: mps\n"
          ]
        }
      ],
      "source": [
        "if torch.backends.mps.is_available():\n",
        "    device = torch.device(\"mps\")\n",
        "elif torch.cuda.is_available():\n",
        "    device = torch.device(\"cuda\")\n",
        "else:\n",
        "    device = torch.device(\"cpu\")\n",
        "\n",
        "print(\"Device:\", device)"
      ]
    },
    {
      "cell_type": "code",
      "execution_count": 75,
      "id": "ae761d87",
      "metadata": {
        "id": "ae761d87"
      },
      "outputs": [],
      "source": [
        "def tokenize(text):\n",
        "    return text.lower().split()\n",
        "\n",
        "# TODO Use torchtext.vocab.build_vocab_from_iterator\n",
        "def build_vocab(tokens, min_freq=1):\n",
        "    counter = Counter(tokens)\n",
        "    vocab = {word: idx for idx, (word, freq) in enumerate(counter.items()) if freq >= min_freq}\n",
        "    word2idx = {word: i for i, word in enumerate(vocab)}\n",
        "    idx2word = {i: word for word, i in word2idx.items()}\n",
        "    return word2idx, idx2word"
      ]
    },
    {
      "cell_type": "markdown",
      "id": "164eafbd",
      "metadata": {
        "id": "164eafbd"
      },
      "source": [
        "## CBOW"
      ]
    },
    {
      "cell_type": "code",
      "execution_count": 76,
      "id": "d2a34d31",
      "metadata": {
        "id": "d2a34d31"
      },
      "outputs": [],
      "source": [
        "class CBOW(nn.Module):\n",
        "    def __init__(self, vocab_size, embedding_dim):\n",
        "        super().__init__()\n",
        "        # TODO Do we have to do max norm here?\n",
        "        self.embeddings = nn.Embedding(vocab_size, embedding_dim, max_norm=1.0)\n",
        "        self.linear = nn.Linear(embedding_dim, vocab_size)\n",
        "\n",
        "    def forward(self, inputs):\n",
        "        x = self.embeddings(inputs)\n",
        "        x = x.mean(dim=1)\n",
        "        x = self.linear(x)\n",
        "        return x"
      ]
    },
    {
      "cell_type": "code",
      "execution_count": 77,
      "id": "21973881",
      "metadata": {
        "id": "21973881"
      },
      "outputs": [],
      "source": [
        "class CBOWDataset(Dataset):\n",
        "    def __init__(self, tokens, word2idx, context_size=2):\n",
        "        self.data = []\n",
        "        self.word2idx = word2idx\n",
        "        self.context_size = context_size\n",
        "        self.vocab_size = len(word2idx)\n",
        "\n",
        "        indices = [word2idx[word] for word in tokens if word in word2idx]\n",
        "        # TODO add tqdm progress\n",
        "        for i in range(context_size, len(indices) - context_size):\n",
        "            context = (\n",
        "                indices[i - context_size:i] + indices[i + 1:i + context_size + 1]\n",
        "            )\n",
        "            target = indices[i]\n",
        "            self.data.append((context, target))\n",
        "\n",
        "    def __len__(self):\n",
        "        return len(self.data)\n",
        "\n",
        "    def __getitem__(self, idx):\n",
        "        context, target = self.data[idx]\n",
        "        return torch.tensor(context, dtype=torch.long), torch.tensor(target, dtype=torch.long)"
      ]
    },
    {
      "cell_type": "code",
      "execution_count": 78,
      "id": "4ff3da93",
      "metadata": {},
      "outputs": [],
      "source": [
        "def print_closest_words(model, word2idx, idx2word, words, device, top_k=5):\n",
        "    embeddings = model.embeddings.weight.data\n",
        "    norm = embeddings / embeddings.norm(dim=1, keepdim=True)\n",
        "    for word in words:\n",
        "        if word not in word2idx:\n",
        "            print(f\"{word}: not in vocabulary\")\n",
        "            continue\n",
        "        idx = word2idx[word]\n",
        "        query = norm[idx]\n",
        "        similarities = torch.matmul(norm, query)\n",
        "        nearest = similarities.topk(top_k + 1).indices[1:]  # exclude self\n",
        "        nearest_words = [idx2word[i.item()] for i in nearest]\n",
        "        print(f\"{word}: {', '.join(nearest_words)}\")"
      ]
    },
    {
      "cell_type": "code",
      "execution_count": 80,
      "id": "c03d522c",
      "metadata": {
        "id": "c03d522c"
      },
      "outputs": [],
      "source": [
        "def train_model(model, dataloader, num_epochs, lr, device):\n",
        "    model.to(device)\n",
        "    # TODO Use torch.optim.lr_scheduler to decay learning rate\n",
        "    # TODO See how nn.CrossEntropyLoss is implemented\n",
        "    criterion = nn.CrossEntropyLoss()\n",
        "    optimizer = optim.Adam(model.parameters(), lr=lr)\n",
        "\n",
        "    for epoch in range(num_epochs):\n",
        "        total_loss = 0\n",
        "        for i, (context, target) in enumerate(dataloader):\n",
        "            context, target = context.to(device), target.to(device)\n",
        "            optimizer.zero_grad()\n",
        "            output = model(context)\n",
        "            loss = criterion(output, target)\n",
        "            total_loss += loss.item()\n",
        "            loss.backward()\n",
        "            optimizer.step()\n",
        "\n",
        "            if i % 1000 == 0:\n",
        "                print(f\"Time: {time.strftime('%Y-%m-%d %H:%M:%S')}, Epoch {epoch+1}, Step {i}, Loss: {loss.item():.4f}\")\n",
        "            if i % 10000 == 0:\n",
        "                print(\"\\nClosest words to some test words:\")\n",
        "                eval_words = [\"king\", \"man\", \"woman\", \"computer\", \"music\"]\n",
        "                print_closest_words(model, word2idx, idx2word, eval_words, device, top_k=5)\n",
        "\n",
        "                snapshot_path = f\"cbow_epoch{epoch+1}_step{i}.pt\"\n",
        "                torch.save(model.state_dict(), snapshot_path)\n",
        "                print(f\"Model snapshot saved to {snapshot_path}\")\n"
      ]
    },
    {
      "cell_type": "code",
      "execution_count": 81,
      "id": "abaf1599",
      "metadata": {
        "id": "abaf1599"
      },
      "outputs": [],
      "source": [
        "# Load and process text\n",
        "with open(corpus_file_path, \"r\") as f:\n",
        "    tokens = tokenize(f.read())\n",
        "\n",
        "# Build vocab\n",
        "word2idx, idx2word = build_vocab(tokens, min_freq=1)\n",
        "\n",
        "# Create dataset and dataloader\n",
        "context_size = 2\n",
        "dataset = CBOWDataset(tokens, word2idx, context_size=context_size)\n",
        "dataloader = DataLoader(dataset, batch_size=32, shuffle=True)"
      ]
    },
    {
      "cell_type": "code",
      "execution_count": 71,
      "id": "e5b79d39",
      "metadata": {},
      "outputs": [
        {
          "data": {
            "text/plain": [
              "253854"
            ]
          },
          "execution_count": 71,
          "metadata": {},
          "output_type": "execute_result"
        }
      ],
      "source": [
        "len(word2idx)"
      ]
    },
    {
      "cell_type": "code",
      "execution_count": 70,
      "id": "c517661a",
      "metadata": {},
      "outputs": [
        {
          "data": {
            "text/plain": [
              "17005203"
            ]
          },
          "execution_count": 70,
          "metadata": {},
          "output_type": "execute_result"
        }
      ],
      "source": [
        "len(dataset)"
      ]
    },
    {
      "cell_type": "code",
      "execution_count": 12,
      "id": "5aceec3f",
      "metadata": {
        "colab": {
          "base_uri": "https://localhost:8080/"
        },
        "id": "5aceec3f",
        "outputId": "488663a0-6f1e-40c6-97b6-ee20ab3e1864"
      },
      "outputs": [
        {
          "data": {
            "text/plain": [
              "531413"
            ]
          },
          "execution_count": 12,
          "metadata": {},
          "output_type": "execute_result"
        }
      ],
      "source": [
        "len(dataloader)"
      ]
    },
    {
      "cell_type": "code",
      "execution_count": 82,
      "id": "226c99b2",
      "metadata": {
        "colab": {
          "base_uri": "https://localhost:8080/"
        },
        "id": "226c99b2",
        "outputId": "f4cfb373-8671-4df1-d177-ec111fca27a5"
      },
      "outputs": [
        {
          "name": "stdout",
          "output_type": "stream",
          "text": [
            "CBOW(\n",
            "  (embeddings): Embedding(253854, 100, max_norm=1.0)\n",
            "  (linear): Linear(in_features=100, out_features=253854, bias=True)\n",
            ")\n"
          ]
        }
      ],
      "source": [
        "# Create model and train\n",
        "vocab_size = len(word2idx)\n",
        "embedding_dim = 100\n",
        "model = CBOW(vocab_size, embedding_dim)\n",
        "print(model)"
      ]
    },
    {
      "cell_type": "code",
      "execution_count": null,
      "id": "4cb6257d",
      "metadata": {
        "id": "4cb6257d"
      },
      "outputs": [
        {
          "name": "stderr",
          "output_type": "stream",
          "text": [
            "/opt/anaconda3/envs/ml/lib/python3.11/site-packages/torch/nn/functional.py:2434: UserWarning: The operator 'aten::embedding_renorm_' is not currently supported on the MPS backend and will fall back to run on the CPU. This may have performance implications. (Triggered internally at /Users/runner/work/pytorch/pytorch/pytorch/aten/src/ATen/mps/MPSFallback.mm:14.)\n",
            "  torch.embedding_renorm_(weight.detach(), input, max_norm, norm_type)\n"
          ]
        },
        {
          "name": "stdout",
          "output_type": "stream",
          "text": [
            "Time: 2025-06-11 14:04:12, Epoch 1, Step 0, Loss: 12.4774\n",
            "\n",
            "Closest words to some test words:\n",
            "king: rber, abu, gaber, katzenjammer, vater\n",
            "man: salafist, docherty, nemausus, ogili, aymer\n",
            "woman: senat, morgul, austrinus, moonwalkers, ramjets\n",
            "computer: majed, ebooks, tsom, dho, hybrid\n",
            "music: pathe, vascularity, banuera, topi, failghe\n",
            "Model snapshot saved to cbow_epoch1_step0.pt\n"
          ]
        }
      ],
      "source": [
        "train_model(model, dataloader, num_epochs=1, lr=0.001, device=device)"
      ]
    },
    {
      "cell_type": "code",
      "execution_count": null,
      "id": "f1132e33",
      "metadata": {},
      "outputs": [],
      "source": []
    }
  ],
  "metadata": {
    "accelerator": "GPU",
    "colab": {
      "gpuType": "T4",
      "provenance": []
    },
    "kernelspec": {
      "display_name": "Python 3",
      "name": "python3"
    },
    "language_info": {
      "codemirror_mode": {
        "name": "ipython",
        "version": 3
      },
      "file_extension": ".py",
      "mimetype": "text/x-python",
      "name": "python",
      "nbconvert_exporter": "python",
      "pygments_lexer": "ipython3",
      "version": "3.11.9"
    },
    "widgets": {
      "application/vnd.jupyter.widget-state+json": {
        "0e3e6c3ad730429caf6cb646a1e00704": {
          "model_module": "@jupyter-widgets/controls",
          "model_module_version": "1.5.0",
          "model_name": "HBoxModel",
          "state": {
            "_dom_classes": [],
            "_model_module": "@jupyter-widgets/controls",
            "_model_module_version": "1.5.0",
            "_model_name": "HBoxModel",
            "_view_count": null,
            "_view_module": "@jupyter-widgets/controls",
            "_view_module_version": "1.5.0",
            "_view_name": "HBoxView",
            "box_style": "",
            "children": [
              "IPY_MODEL_7b4c901838d84fd689c6f6d74c487b61",
              "IPY_MODEL_9c5518e72262453e91b2239074b594a4",
              "IPY_MODEL_13acc1a7475d41d1b3ec3526c9fa0058"
            ],
            "layout": "IPY_MODEL_d9e18e840ec74f88b1cdc042116e2e27"
          }
        },
        "13acc1a7475d41d1b3ec3526c9fa0058": {
          "model_module": "@jupyter-widgets/controls",
          "model_module_version": "1.5.0",
          "model_name": "HTMLModel",
          "state": {
            "_dom_classes": [],
            "_model_module": "@jupyter-widgets/controls",
            "_model_module_version": "1.5.0",
            "_model_name": "HTMLModel",
            "_view_count": null,
            "_view_module": "@jupyter-widgets/controls",
            "_view_module_version": "1.5.0",
            "_view_name": "HTMLView",
            "description": "",
            "description_tooltip": null,
            "layout": "IPY_MODEL_5c740ada165847bb922d42baba033dd4",
            "placeholder": "​",
            "style": "IPY_MODEL_2d92be52907442e89bc2efbaf37c2ce6",
            "value": " 100M/100M [00:01&lt;00:00, 79.7MB/s]"
          }
        },
        "2d92be52907442e89bc2efbaf37c2ce6": {
          "model_module": "@jupyter-widgets/controls",
          "model_module_version": "1.5.0",
          "model_name": "DescriptionStyleModel",
          "state": {
            "_model_module": "@jupyter-widgets/controls",
            "_model_module_version": "1.5.0",
            "_model_name": "DescriptionStyleModel",
            "_view_count": null,
            "_view_module": "@jupyter-widgets/base",
            "_view_module_version": "1.2.0",
            "_view_name": "StyleView",
            "description_width": ""
          }
        },
        "2df17dd593a44db1ade6ea70d307a806": {
          "model_module": "@jupyter-widgets/base",
          "model_module_version": "1.2.0",
          "model_name": "LayoutModel",
          "state": {
            "_model_module": "@jupyter-widgets/base",
            "_model_module_version": "1.2.0",
            "_model_name": "LayoutModel",
            "_view_count": null,
            "_view_module": "@jupyter-widgets/base",
            "_view_module_version": "1.2.0",
            "_view_name": "LayoutView",
            "align_content": null,
            "align_items": null,
            "align_self": null,
            "border": null,
            "bottom": null,
            "display": null,
            "flex": null,
            "flex_flow": null,
            "grid_area": null,
            "grid_auto_columns": null,
            "grid_auto_flow": null,
            "grid_auto_rows": null,
            "grid_column": null,
            "grid_gap": null,
            "grid_row": null,
            "grid_template_areas": null,
            "grid_template_columns": null,
            "grid_template_rows": null,
            "height": null,
            "justify_content": null,
            "justify_items": null,
            "left": null,
            "margin": null,
            "max_height": null,
            "max_width": null,
            "min_height": null,
            "min_width": null,
            "object_fit": null,
            "object_position": null,
            "order": null,
            "overflow": null,
            "overflow_x": null,
            "overflow_y": null,
            "padding": null,
            "right": null,
            "top": null,
            "visibility": null,
            "width": null
          }
        },
        "5c740ada165847bb922d42baba033dd4": {
          "model_module": "@jupyter-widgets/base",
          "model_module_version": "1.2.0",
          "model_name": "LayoutModel",
          "state": {
            "_model_module": "@jupyter-widgets/base",
            "_model_module_version": "1.2.0",
            "_model_name": "LayoutModel",
            "_view_count": null,
            "_view_module": "@jupyter-widgets/base",
            "_view_module_version": "1.2.0",
            "_view_name": "LayoutView",
            "align_content": null,
            "align_items": null,
            "align_self": null,
            "border": null,
            "bottom": null,
            "display": null,
            "flex": null,
            "flex_flow": null,
            "grid_area": null,
            "grid_auto_columns": null,
            "grid_auto_flow": null,
            "grid_auto_rows": null,
            "grid_column": null,
            "grid_gap": null,
            "grid_row": null,
            "grid_template_areas": null,
            "grid_template_columns": null,
            "grid_template_rows": null,
            "height": null,
            "justify_content": null,
            "justify_items": null,
            "left": null,
            "margin": null,
            "max_height": null,
            "max_width": null,
            "min_height": null,
            "min_width": null,
            "object_fit": null,
            "object_position": null,
            "order": null,
            "overflow": null,
            "overflow_x": null,
            "overflow_y": null,
            "padding": null,
            "right": null,
            "top": null,
            "visibility": null,
            "width": null
          }
        },
        "7b4c901838d84fd689c6f6d74c487b61": {
          "model_module": "@jupyter-widgets/controls",
          "model_module_version": "1.5.0",
          "model_name": "HTMLModel",
          "state": {
            "_dom_classes": [],
            "_model_module": "@jupyter-widgets/controls",
            "_model_module_version": "1.5.0",
            "_model_name": "HTMLModel",
            "_view_count": null,
            "_view_module": "@jupyter-widgets/controls",
            "_view_module_version": "1.5.0",
            "_view_name": "HTMLView",
            "description": "",
            "description_tooltip": null,
            "layout": "IPY_MODEL_2df17dd593a44db1ade6ea70d307a806",
            "placeholder": "​",
            "style": "IPY_MODEL_e74644fd4df04c698c346b3d72a9db2f",
            "value": "text8: 100%"
          }
        },
        "8a8660462e04445e8be5a9d91ed12d57": {
          "model_module": "@jupyter-widgets/controls",
          "model_module_version": "1.5.0",
          "model_name": "ProgressStyleModel",
          "state": {
            "_model_module": "@jupyter-widgets/controls",
            "_model_module_version": "1.5.0",
            "_model_name": "ProgressStyleModel",
            "_view_count": null,
            "_view_module": "@jupyter-widgets/base",
            "_view_module_version": "1.2.0",
            "_view_name": "StyleView",
            "bar_color": null,
            "description_width": ""
          }
        },
        "9c5518e72262453e91b2239074b594a4": {
          "model_module": "@jupyter-widgets/controls",
          "model_module_version": "1.5.0",
          "model_name": "FloatProgressModel",
          "state": {
            "_dom_classes": [],
            "_model_module": "@jupyter-widgets/controls",
            "_model_module_version": "1.5.0",
            "_model_name": "FloatProgressModel",
            "_view_count": null,
            "_view_module": "@jupyter-widgets/controls",
            "_view_module_version": "1.5.0",
            "_view_name": "ProgressView",
            "bar_style": "success",
            "description": "",
            "description_tooltip": null,
            "layout": "IPY_MODEL_d5b9b118033e49de86e75ebc186b87c1",
            "max": 100000000,
            "min": 0,
            "orientation": "horizontal",
            "style": "IPY_MODEL_8a8660462e04445e8be5a9d91ed12d57",
            "value": 100000000
          }
        },
        "d5b9b118033e49de86e75ebc186b87c1": {
          "model_module": "@jupyter-widgets/base",
          "model_module_version": "1.2.0",
          "model_name": "LayoutModel",
          "state": {
            "_model_module": "@jupyter-widgets/base",
            "_model_module_version": "1.2.0",
            "_model_name": "LayoutModel",
            "_view_count": null,
            "_view_module": "@jupyter-widgets/base",
            "_view_module_version": "1.2.0",
            "_view_name": "LayoutView",
            "align_content": null,
            "align_items": null,
            "align_self": null,
            "border": null,
            "bottom": null,
            "display": null,
            "flex": null,
            "flex_flow": null,
            "grid_area": null,
            "grid_auto_columns": null,
            "grid_auto_flow": null,
            "grid_auto_rows": null,
            "grid_column": null,
            "grid_gap": null,
            "grid_row": null,
            "grid_template_areas": null,
            "grid_template_columns": null,
            "grid_template_rows": null,
            "height": null,
            "justify_content": null,
            "justify_items": null,
            "left": null,
            "margin": null,
            "max_height": null,
            "max_width": null,
            "min_height": null,
            "min_width": null,
            "object_fit": null,
            "object_position": null,
            "order": null,
            "overflow": null,
            "overflow_x": null,
            "overflow_y": null,
            "padding": null,
            "right": null,
            "top": null,
            "visibility": null,
            "width": null
          }
        },
        "d9e18e840ec74f88b1cdc042116e2e27": {
          "model_module": "@jupyter-widgets/base",
          "model_module_version": "1.2.0",
          "model_name": "LayoutModel",
          "state": {
            "_model_module": "@jupyter-widgets/base",
            "_model_module_version": "1.2.0",
            "_model_name": "LayoutModel",
            "_view_count": null,
            "_view_module": "@jupyter-widgets/base",
            "_view_module_version": "1.2.0",
            "_view_name": "LayoutView",
            "align_content": null,
            "align_items": null,
            "align_self": null,
            "border": null,
            "bottom": null,
            "display": null,
            "flex": null,
            "flex_flow": null,
            "grid_area": null,
            "grid_auto_columns": null,
            "grid_auto_flow": null,
            "grid_auto_rows": null,
            "grid_column": null,
            "grid_gap": null,
            "grid_row": null,
            "grid_template_areas": null,
            "grid_template_columns": null,
            "grid_template_rows": null,
            "height": null,
            "justify_content": null,
            "justify_items": null,
            "left": null,
            "margin": null,
            "max_height": null,
            "max_width": null,
            "min_height": null,
            "min_width": null,
            "object_fit": null,
            "object_position": null,
            "order": null,
            "overflow": null,
            "overflow_x": null,
            "overflow_y": null,
            "padding": null,
            "right": null,
            "top": null,
            "visibility": null,
            "width": null
          }
        },
        "e74644fd4df04c698c346b3d72a9db2f": {
          "model_module": "@jupyter-widgets/controls",
          "model_module_version": "1.5.0",
          "model_name": "DescriptionStyleModel",
          "state": {
            "_model_module": "@jupyter-widgets/controls",
            "_model_module_version": "1.5.0",
            "_model_name": "DescriptionStyleModel",
            "_view_count": null,
            "_view_module": "@jupyter-widgets/base",
            "_view_module_version": "1.2.0",
            "_view_name": "StyleView",
            "description_width": ""
          }
        }
      }
    }
  },
  "nbformat": 4,
  "nbformat_minor": 5
}
