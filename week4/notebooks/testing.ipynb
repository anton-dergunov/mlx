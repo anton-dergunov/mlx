{
 "cells": [
  {
   "cell_type": "code",
   "execution_count": 2,
   "id": "91307404",
   "metadata": {},
   "outputs": [],
   "source": [
    "%reload_ext autoreload\n",
    "%autoreload 2"
   ]
  },
  {
   "cell_type": "code",
   "execution_count": 1,
   "id": "3e1124c1",
   "metadata": {},
   "outputs": [],
   "source": [
    "import sys\n",
    "import os\n",
    "\n",
    "src_path = os.path.abspath(\"../src\")\n",
    "if src_path not in sys.path:\n",
    "    sys.path.insert(0, src_path)"
   ]
  },
  {
   "cell_type": "code",
   "execution_count": 4,
   "id": "d5128c0a",
   "metadata": {},
   "outputs": [],
   "source": [
    "from data import create_flickr_dataloaders\n",
    "from utils import get_device"
   ]
  },
  {
   "cell_type": "code",
   "execution_count": 6,
   "id": "757b3e19",
   "metadata": {},
   "outputs": [
    {
     "data": {
      "text/plain": [
       "'/Users/anton/experiment_data/datasets/flickr50k'"
      ]
     },
     "execution_count": 6,
     "metadata": {},
     "output_type": "execute_result"
    }
   ],
   "source": [
    "cache_dir = os.path.expanduser(\"~/experiment_data/datasets/flickr50k\")\n",
    "cache_dir"
   ]
  },
  {
   "cell_type": "code",
   "execution_count": 15,
   "id": "16931105",
   "metadata": {},
   "outputs": [
    {
     "name": "stdout",
     "output_type": "stream",
     "text": [
      "Generating composite dataset: /Users/anton/experiment_data/datasets/flickr50k/flickr_50k.pkl\n"
     ]
    },
    {
     "name": "stderr",
     "output_type": "stream",
     "text": [
      "Precomputing: 100%|██████████| 31014/31014 [32:15<00:00, 16.02it/s]  \n"
     ]
    }
   ],
   "source": [
    "loader = create_flickr_dataloaders(get_device(), cache_dir)"
   ]
  },
  {
   "cell_type": "code",
   "execution_count": 16,
   "id": "09d05931",
   "metadata": {},
   "outputs": [
    {
     "name": "stdout",
     "output_type": "stream",
     "text": [
      "Loading cached dataset: /Users/anton/experiment_data/datasets/flickr50k/flickr_50k.pkl\n"
     ]
    }
   ],
   "source": [
    "loader = create_flickr_dataloaders(get_device(), cache_dir)"
   ]
  },
  {
   "cell_type": "code",
   "execution_count": null,
   "id": "d85568a3",
   "metadata": {},
   "outputs": [],
   "source": []
  }
 ],
 "metadata": {
  "kernelspec": {
   "display_name": "week4",
   "language": "python",
   "name": "python3"
  },
  "language_info": {
   "codemirror_mode": {
    "name": "ipython",
    "version": 3
   },
   "file_extension": ".py",
   "mimetype": "text/x-python",
   "name": "python",
   "nbconvert_exporter": "python",
   "pygments_lexer": "ipython3",
   "version": "3.11.9"
  }
 },
 "nbformat": 4,
 "nbformat_minor": 5
}
