{
 "cells": [
  {
   "cell_type": "code",
   "execution_count": 1,
   "id": "10386e9e",
   "metadata": {},
   "outputs": [],
   "source": [
    "from sqlalchemy import create_engine\n",
    "import pandas as pd\n",
    "import matplotlib.pyplot as plt\n",
    "from wordcloud import WordCloud\n",
    "from collections import Counter\n",
    "import unicodedata\n",
    "import math\n",
    "import os\n",
    "import matplotlib.patches as mpatches\n",
    "import numpy as np\n",
    "import matplotlib.pyplot as plt\n",
    "from sqlalchemy import text\n",
    "from tqdm import tqdm\n",
    "from collections import Counter\n",
    "import unicodedata\n",
    "import re"
   ]
  },
  {
   "cell_type": "code",
   "execution_count": 2,
   "id": "5323f60d",
   "metadata": {},
   "outputs": [],
   "source": [
    "user = \"sy91dhb\"\n",
    "password = \"g5t49ao\"\n",
    "host = \"178.156.142.230\"\n",
    "port = \"5432\"\n",
    "db = \"hd64m1ki\"\n",
    "\n",
    "engine = create_engine(f\"postgresql+psycopg2://{user}:{password}@{host}:{port}/{db}\")"
   ]
  },
  {
   "cell_type": "code",
   "execution_count": 3,
   "id": "b749c847",
   "metadata": {},
   "outputs": [],
   "source": [
    "query = \"SELECT title, url, by, time, score FROM hacker_news.items WHERE type='story' AND dead IS NULL\"\n",
    "df = pd.read_sql(query, engine)"
   ]
  },
  {
   "cell_type": "code",
   "execution_count": 4,
   "id": "9bbdbe87",
   "metadata": {},
   "outputs": [],
   "source": [
    "df.to_parquet(\"hackernews_stories.parquet\")"
   ]
  },
  {
   "cell_type": "code",
   "execution_count": null,
   "id": "fdad4cd6",
   "metadata": {},
   "outputs": [],
   "source": []
  },
  {
   "cell_type": "code",
   "execution_count": null,
   "id": "6fc8dfec",
   "metadata": {},
   "outputs": [],
   "source": []
  }
 ],
 "metadata": {
  "kernelspec": {
   "display_name": "ml",
   "language": "python",
   "name": "python3"
  },
  "language_info": {
   "codemirror_mode": {
    "name": "ipython",
    "version": 3
   },
   "file_extension": ".py",
   "mimetype": "text/x-python",
   "name": "python",
   "nbconvert_exporter": "python",
   "pygments_lexer": "ipython3",
   "version": "3.11.9"
  }
 },
 "nbformat": 4,
 "nbformat_minor": 5
}
