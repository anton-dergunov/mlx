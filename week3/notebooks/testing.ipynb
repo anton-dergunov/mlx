{
 "cells": [
  {
   "cell_type": "code",
   "execution_count": 1,
   "id": "a71de15d",
   "metadata": {},
   "outputs": [],
   "source": [
    "%reload_ext autoreload\n",
    "%autoreload 2"
   ]
  },
  {
   "cell_type": "code",
   "execution_count": 45,
   "id": "9edb9ebb",
   "metadata": {},
   "outputs": [],
   "source": [
    "import torch\n",
    "import torch.nn as nn\n",
    "import matplotlib.pyplot as plt"
   ]
  },
  {
   "cell_type": "code",
   "execution_count": 2,
   "id": "73a11a14",
   "metadata": {},
   "outputs": [],
   "source": [
    "import sys\n",
    "import os\n",
    "\n",
    "src_path = os.path.abspath(\"../src\")\n",
    "if src_path not in sys.path:\n",
    "    sys.path.insert(0, src_path)"
   ]
  },
  {
   "cell_type": "code",
   "execution_count": 40,
   "id": "c63d0c55",
   "metadata": {},
   "outputs": [],
   "source": [
    "from data import get_train_valid_data_loader, unpatchify"
   ]
  },
  {
   "cell_type": "code",
   "execution_count": 34,
   "id": "b760c429",
   "metadata": {},
   "outputs": [],
   "source": [
    "cache_dir = \"~/experiment_data/datasets\""
   ]
  },
  {
   "cell_type": "code",
   "execution_count": null,
   "id": "2869a5f7",
   "metadata": {},
   "outputs": [],
   "source": [
    "train_loader, valid_loader = get_train_valid_data_loader(cache_dir)\n",
    "# TODO Show dataset size"
   ]
  },
  {
   "cell_type": "code",
   "execution_count": 43,
   "id": "28026332",
   "metadata": {},
   "outputs": [
    {
     "name": "stdout",
     "output_type": "stream",
     "text": [
      "torch.Size([4, 196])\n"
     ]
    },
    {
     "data": {
      "image/png": "[encoded data removed]",
      "text/plain": [
       "<Figure size 640x480 with 1 Axes>"
      ]
     },
     "metadata": {},
     "output_type": "display_data"
    }
   ],
   "source": [
    "# Get the first batch from train_loader\n",
    "images, labels = next(iter(train_loader))\n",
    "\n",
    "print(images[0].shape)\n",
    "\n",
    "plt.imshow(unpatchify(images[0]).squeeze(), cmap='gray')\n",
    "plt.title(f'Label: {labels[0].item()}')\n",
    "plt.axis('off')\n",
    "plt.show()"
   ]
  },
  {
   "cell_type": "markdown",
   "id": "b960a7e3",
   "metadata": {},
   "source": [
    "TODO Show attention steps by step operations"
   ]
  },
  {
   "cell_type": "code",
   "execution_count": null,
   "id": "f5df90b6",
   "metadata": {},
   "outputs": [],
   "source": []
  }
 ],
 "metadata": {
  "kernelspec": {
   "display_name": "ml",
   "language": "python",
   "name": "python3"
  },
  "language_info": {
   "codemirror_mode": {
    "name": "ipython",
    "version": 3
   },
   "file_extension": ".py",
   "mimetype": "text/x-python",
   "name": "python",
   "nbconvert_exporter": "python",
   "pygments_lexer": "ipython3",
   "version": "3.11.9"
  }
 },
 "nbformat": 4,
 "nbformat_minor": 5
}
