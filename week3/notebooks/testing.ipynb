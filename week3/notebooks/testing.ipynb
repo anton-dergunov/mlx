{
 "cells": [
  {
   "cell_type": "code",
   "execution_count": 129,
   "id": "a71de15d",
   "metadata": {},
   "outputs": [],
   "source": [
    "%reload_ext autoreload\n",
    "%autoreload 2"
   ]
  },
  {
   "cell_type": "code",
   "execution_count": 101,
   "id": "9edb9ebb",
   "metadata": {},
   "outputs": [],
   "source": [
    "import torch\n",
    "import torch.nn as nn\n",
    "import matplotlib.pyplot as plt\n",
    "from pprint import pprint\n",
    "from omegaconf import OmegaConf"
   ]
  },
  {
   "cell_type": "code",
   "execution_count": 67,
   "id": "73a11a14",
   "metadata": {},
   "outputs": [],
   "source": [
    "import sys\n",
    "import os\n",
    "\n",
    "src_path = os.path.abspath(\"../src\")\n",
    "if src_path not in sys.path:\n",
    "    sys.path.insert(0, src_path)"
   ]
  },
  {
   "cell_type": "code",
   "execution_count": 110,
   "id": "c63d0c55",
   "metadata": {},
   "outputs": [],
   "source": [
    "from data import load_mnist_dataloaders, unpatchify\n",
    "from model import VisionToSequence\n",
    "from config import load_config\n",
    "from inference import decode_sequence_greedy, InferenceWrapper"
   ]
  },
  {
   "cell_type": "code",
   "execution_count": 61,
   "id": "b760c429",
   "metadata": {},
   "outputs": [],
   "source": [
    "cache_dir = os.path.expanduser(\"~/experiment_data/datasets\")"
   ]
  },
  {
   "cell_type": "code",
   "execution_count": 80,
   "id": "c8a0b175",
   "metadata": {},
   "outputs": [],
   "source": [
    "def tensor_to_str(x):\n",
    "    if x.dim() == 0:\n",
    "        return str(x.item())\n",
    "    else:\n",
    "        return ','.join(str(i.item()) for i in x)\n",
    "\n",
    "def show_image(image, label, patch_size=14):\n",
    "    print(\"Image shape: \", image.shape)\n",
    "\n",
    "    plt.imshow(unpatchify(image).squeeze(), cmap='gray')\n",
    "    plt.title(f'Label: {tensor_to_str(label)}')\n",
    "    plt.axis('off')\n",
    "    plt.show()\n",
    "\n",
    "def show_first_image_from_loader(data_loader, patch_size=14):\n",
    "    # Get the first batch from data_loader\n",
    "    images, labels = next(iter(data_loader))\n",
    "    show_image(images[0], labels[0])"
   ]
  },
  {
   "cell_type": "code",
   "execution_count": 130,
   "id": "28026332",
   "metadata": {},
   "outputs": [
    {
     "name": "stdout",
     "output_type": "stream",
     "text": [
      "Image shape:  torch.Size([4, 196])\n"
     ]
    },
    {
     "data": {
      "image/png": "[encoded data removed]",
      "text/plain": [
       "<Figure size 640x480 with 1 Axes>"
      ]
     },
     "metadata": {},
     "output_type": "display_data"
    }
   ],
   "source": [
    "train_loader_image_classification, _, _ = load_mnist_dataloaders(cache_dir)\n",
    "show_first_image_from_loader(train_loader_image_classification)"
   ]
  },
  {
   "cell_type": "code",
   "execution_count": 131,
   "id": "596ff9cb",
   "metadata": {},
   "outputs": [],
   "source": [
    "images, labels = next(iter(train_loader_image_classification))"
   ]
  },
  {
   "cell_type": "code",
   "execution_count": 132,
   "id": "40544ec7",
   "metadata": {},
   "outputs": [
    {
     "data": {
      "text/plain": [
       "tensor([[-0.4242, -0.4242, -0.4242, -0.4242, -0.4242, -0.4242, -0.4242, -0.4242,\n",
       "         -0.4242, -0.4242, -0.4242, -0.4242, -0.4242, -0.4242, -0.4242, -0.4242,\n",
       "         -0.4242, -0.4242, -0.4242, -0.4242, -0.4242, -0.4242, -0.4242, -0.4242,\n",
       "         -0.4242, -0.4242, -0.4242, -0.4242, -0.4242, -0.4242, -0.4242, -0.4242,\n",
       "         -0.4242, -0.4242, -0.4242, -0.4242, -0.4242, -0.4242, -0.4242, -0.4242,\n",
       "         -0.4242, -0.4242, -0.4242, -0.4242, -0.4242, -0.4242, -0.4242, -0.4242,\n",
       "         -0.4242, -0.4242, -0.4242, -0.4242, -0.4242, -0.4242, -0.4242, -0.4242,\n",
       "         -0.4242, -0.4242, -0.4242, -0.4242, -0.4242, -0.4242, -0.4242, -0.4242,\n",
       "         -0.4242, -0.4242, -0.4242, -0.4242, -0.4242, -0.4242, -0.4242, -0.4242,\n",
       "         -0.4242, -0.4242, -0.4242, -0.4242, -0.4242, -0.4242, -0.4242, -0.4242,\n",
       "         -0.4242, -0.4242, -0.4242, -0.4242, -0.4242, -0.4242, -0.4242, -0.4242,\n",
       "         -0.4242, -0.4242, -0.4242, -0.4242, -0.4242, -0.4242, -0.4242, -0.4242,\n",
       "         -0.4242, -0.4242, -0.4242, -0.4242, -0.4242, -0.4242, -0.4242, -0.4242,\n",
       "         -0.4242, -0.4242, -0.4242, -0.4242, -0.4242, -0.4242, -0.4242, -0.4242,\n",
       "         -0.4242, -0.4242, -0.4242, -0.4242, -0.4242, -0.4242, -0.4242, -0.4242,\n",
       "         -0.4242, -0.4242, -0.4242,  0.1486, -0.2460,  0.4159, -0.4242, -0.4242,\n",
       "         -0.4242, -0.4242, -0.4242, -0.4242, -0.4242, -0.4242, -0.4115,  0.1613,\n",
       "          2.2105,  2.6815,  2.4778,  2.8088, -0.4242, -0.4242, -0.4242, -0.4242,\n",
       "         -0.4242, -0.4242, -0.4242, -0.4242,  1.4596,  2.8088,  2.8088,  2.8088,\n",
       "          2.8088,  2.8088, -0.4242, -0.4242, -0.4242, -0.4242, -0.4242, -0.4242,\n",
       "         -0.4242,  0.0976,  2.5415,  2.8088,  2.8088,  2.7069,  1.2686,  0.7341,\n",
       "         -0.4242, -0.4242, -0.4242, -0.4242, -0.4242, -0.4242, -0.4242,  1.9814,\n",
       "          2.8088,  2.8088,  1.7014,  0.1995, -0.4242, -0.4242, -0.4242, -0.4242,\n",
       "         -0.4242, -0.4242, -0.4242, -0.4242, -0.4242,  2.3251,  2.8088,  2.8088,\n",
       "          0.0849, -0.4242, -0.4242, -0.4242],\n",
       "        [-0.4242, -0.4242, -0.4242, -0.4242, -0.4242, -0.4242, -0.4242, -0.4242,\n",
       "         -0.4242, -0.4242, -0.4242, -0.4242, -0.4242, -0.4242, -0.4242, -0.4242,\n",
       "         -0.4242, -0.4242, -0.4242, -0.4242, -0.4242, -0.4242, -0.4242, -0.4242,\n",
       "         -0.4242, -0.4242, -0.4242, -0.4242, -0.4242, -0.4242, -0.4242, -0.4242,\n",
       "         -0.4242, -0.4242, -0.4242, -0.4242, -0.4242, -0.4242, -0.4242, -0.4242,\n",
       "         -0.4242, -0.4242, -0.4242, -0.4242, -0.4242, -0.4242, -0.4242, -0.4242,\n",
       "         -0.4242, -0.4242, -0.4242, -0.4242, -0.4242, -0.4242, -0.4242, -0.4242,\n",
       "         -0.4242, -0.4242, -0.4242, -0.4242, -0.4242, -0.4242, -0.4242, -0.4242,\n",
       "         -0.4242, -0.4242, -0.4242, -0.4242, -0.4242, -0.4242, -0.4242, -0.4242,\n",
       "         -0.4242, -0.4242, -0.4242, -0.4242, -0.4242, -0.4242, -0.4242, -0.4242,\n",
       "         -0.4242, -0.4242, -0.4242, -0.4242, -0.4242, -0.4242, -0.4242, -0.4242,\n",
       "         -0.4242, -0.3733,  0.0085, -0.2715,  0.2886,  0.1867, -0.1696,  0.1613,\n",
       "         -0.4242, -0.4242, -0.3988, -0.2842,  0.9632,  1.0141,  2.2487,  2.2869,\n",
       "          2.5924,  2.3760,  2.8088,  2.7324,  2.4524,  2.7197,  1.7523, -0.4242,\n",
       "          1.7905,  2.8088,  2.8088,  2.8088,  2.8088,  2.8088,  2.8088,  2.7324,\n",
       "          2.5669,  2.3760,  2.3124,  2.7833,  2.8088, -0.4242,  2.8088,  2.8088,\n",
       "          2.8088,  2.0832,  2.0832,  2.5542,  1.7014,  0.1231, -0.1060, -0.2206,\n",
       "         -0.2460, -0.0042,  0.5177, -0.4242,  2.8088,  2.0832,  0.6068, -0.2206,\n",
       "         -0.4242, -0.4242, -0.4242, -0.4242, -0.4242, -0.4242, -0.4242, -0.4242,\n",
       "         -0.4242, -0.4242, -0.1060, -0.3478, -0.4242, -0.4242, -0.4242, -0.4242,\n",
       "         -0.4242, -0.4242, -0.4242, -0.4242, -0.4242, -0.4242, -0.4242, -0.4242,\n",
       "         -0.4242, -0.4242, -0.4242, -0.4242, -0.4242, -0.4242, -0.4242, -0.4242,\n",
       "         -0.4242, -0.4242, -0.4242, -0.4242, -0.4242, -0.4242, -0.4242, -0.4242,\n",
       "         -0.4242, -0.4242, -0.4242, -0.4242, -0.4242, -0.4242, -0.4242, -0.4242,\n",
       "         -0.4242, -0.4242, -0.4242, -0.4242],\n",
       "        [-0.4242, -0.4242, -0.4242, -0.4242, -0.4242, -0.4242, -0.4242,  1.3705,\n",
       "          2.8088,  2.8088,  0.4922,  0.4159, -0.2969, -0.4242, -0.4242, -0.4242,\n",
       "         -0.4242, -0.4242, -0.4242, -0.4242, -0.4242, -0.4115,  2.0069,  2.8088,\n",
       "          2.7960,  2.7960,  2.6178,  1.0650, -0.4242, -0.4242, -0.4242, -0.4242,\n",
       "         -0.4242, -0.4242, -0.4242, -0.4242, -0.1442,  0.5304,  1.4723,  2.3505,\n",
       "          2.7578,  2.8088, -0.4242, -0.4242, -0.4242, -0.4242, -0.4242, -0.4242,\n",
       "         -0.4242, -0.4242, -0.4242, -0.4242, -0.4242, -0.4242, -0.2715,  1.2050,\n",
       "         -0.4242, -0.4242, -0.4242, -0.4242, -0.4242, -0.4242, -0.4242, -0.4242,\n",
       "         -0.4242, -0.4242, -0.4242, -0.4242, -0.4242, -0.4242, -0.4242, -0.4242,\n",
       "         -0.4242, -0.4242, -0.4242, -0.4242, -0.4242, -0.4242, -0.4242, -0.4242,\n",
       "         -0.4242, -0.4242, -0.4242, -0.4242, -0.4242, -0.4242, -0.4242, -0.4242,\n",
       "         -0.4242, -0.4242, -0.4242, -0.4242, -0.4115, -0.3097, -0.4242, -0.4242,\n",
       "         -0.3860,  0.7595, -0.4242, -0.4242, -0.4242, -0.4242, -0.4242, -0.4242,\n",
       "         -0.4242, -0.4242,  0.6195,  0.7213, -0.4242, -0.4242,  0.3649,  2.8088,\n",
       "         -0.4242, -0.4242, -0.4242, -0.4242, -0.4242, -0.4242, -0.4242, -0.4242,\n",
       "          2.1596,  1.8287,  1.2941,  1.6759,  2.6942,  2.8088, -0.4242, -0.4242,\n",
       "         -0.4242, -0.4242, -0.4242, -0.4242, -0.4242, -0.4242,  2.2487,  2.8088,\n",
       "          2.8088,  2.8088,  2.8088,  2.8088, -0.4242, -0.4242, -0.4242, -0.4242,\n",
       "         -0.4242, -0.4242, -0.4242, -0.4242,  1.2686,  2.6178,  2.8088,  2.6433,\n",
       "          1.5868,  0.0467, -0.4242, -0.4242, -0.4242, -0.4242, -0.4242, -0.4242,\n",
       "         -0.4242, -0.4242, -0.4242,  0.0340,  0.2758,  0.0722, -0.4242, -0.4242,\n",
       "         -0.4242, -0.4242, -0.4242, -0.4242, -0.4242, -0.4242, -0.4242, -0.4242,\n",
       "         -0.4242, -0.4242, -0.4242, -0.4242, -0.4242, -0.4242, -0.4242, -0.4242,\n",
       "         -0.4242, -0.4242, -0.4242, -0.4242, -0.4242, -0.4242, -0.4242, -0.4242,\n",
       "         -0.4242, -0.4242, -0.4242, -0.4242],\n",
       "        [-0.4242, -0.4242, -0.4242, -0.4242, -0.4242, -0.4242, -0.4242, -0.4242,\n",
       "         -0.4242, -0.4242, -0.4242, -0.4242, -0.4242, -0.4242, -0.3860, -0.4242,\n",
       "         -0.4242, -0.4242, -0.4242, -0.4242, -0.4242, -0.4242, -0.4242, -0.4242,\n",
       "         -0.4242, -0.4242, -0.4242, -0.4242,  2.2233,  0.7468, -0.3860, -0.4242,\n",
       "         -0.4242, -0.4242, -0.4242, -0.4242, -0.4242, -0.4242, -0.4242, -0.4242,\n",
       "         -0.4242, -0.4242,  2.7706,  2.8088,  0.9123, -0.4242, -0.4242, -0.4242,\n",
       "         -0.4242, -0.4242, -0.4242, -0.4242, -0.4242, -0.4242, -0.4242, -0.4242,\n",
       "          2.6306,  2.8088,  0.9886, -0.4242, -0.4242, -0.4242, -0.4242, -0.4242,\n",
       "         -0.4242, -0.4242, -0.4242, -0.4242, -0.4242, -0.4242,  2.6306,  2.8088,\n",
       "          2.1723, -0.4242, -0.4242, -0.4242, -0.4242, -0.4242, -0.4242, -0.4242,\n",
       "         -0.4242, -0.4242, -0.4242, -0.4242,  2.7960,  2.8088,  1.0523, -0.4242,\n",
       "         -0.4242, -0.4242, -0.4242, -0.4242, -0.4242, -0.4242, -0.4242, -0.4242,\n",
       "         -0.4242, -0.4242,  2.8088,  2.4269, -0.0169, -0.4242, -0.4242, -0.4242,\n",
       "         -0.4242, -0.4242, -0.4242, -0.4242, -0.4242, -0.4242, -0.4242, -0.4242,\n",
       "          2.7451,  0.3268, -0.4242, -0.4242, -0.4242, -0.4242, -0.4242, -0.4242,\n",
       "         -0.4242, -0.4242, -0.4242, -0.4242, -0.4242, -0.4242,  0.4031, -0.4242,\n",
       "         -0.4242, -0.4242, -0.4242, -0.4242, -0.4242, -0.4242, -0.4242, -0.4242,\n",
       "         -0.4242, -0.4242, -0.4242, -0.4242, -0.4115, -0.4242, -0.4242, -0.4242,\n",
       "         -0.4242, -0.4242, -0.4242, -0.4242, -0.4242, -0.4242, -0.4242, -0.4242,\n",
       "         -0.4242, -0.4242, -0.4242, -0.4242, -0.4242, -0.4242, -0.4242, -0.4242,\n",
       "         -0.4242, -0.4242, -0.4242, -0.4242, -0.4242, -0.4242, -0.4242, -0.4242,\n",
       "         -0.4242, -0.4242, -0.4242, -0.4242, -0.4242, -0.4242, -0.4242, -0.4242,\n",
       "         -0.4242, -0.4242, -0.4242, -0.4242, -0.4242, -0.4242, -0.4242, -0.4242,\n",
       "         -0.4242, -0.4242, -0.4242, -0.4242, -0.4242, -0.4242, -0.4242, -0.4242,\n",
       "         -0.4242, -0.4242, -0.4242, -0.4242]])"
      ]
     },
     "execution_count": 132,
     "metadata": {},
     "output_type": "execute_result"
    }
   ],
   "source": [
    "images[0]"
   ]
  },
  {
   "cell_type": "code",
   "execution_count": 63,
   "id": "f5df90b6",
   "metadata": {},
   "outputs": [
    {
     "name": "stdout",
     "output_type": "stream",
     "text": [
      "Generating composite dataset: /Users/anton/experiment_data/datasets/MNIST/d5833fd2a1071c5cfd7909735a89a1b6.pkl\n"
     ]
    },
    {
     "name": "stderr",
     "output_type": "stream",
     "text": [
      "Generating composite MNIST: 100%|██████████| 10000/10000 [00:02<00:00, 3337.18it/s]\n"
     ]
    },
    {
     "name": "stdout",
     "output_type": "stream",
     "text": [
      "Generating composite dataset: /Users/anton/experiment_data/datasets/MNIST/d42c047e612e9d8ad30138e6816454c5.pkl\n"
     ]
    },
    {
     "name": "stderr",
     "output_type": "stream",
     "text": [
      "Generating composite MNIST: 100%|██████████| 2000/2000 [00:00<00:00, 3689.24it/s]\n"
     ]
    },
    {
     "name": "stdout",
     "output_type": "stream",
     "text": [
      "Image shape:  torch.Size([16, 196])\n"
     ]
    },
    {
     "data": {
      "image/png": "[encoded data removed]",
      "text/plain": [
       "<Figure size 640x480 with 1 Axes>"
      ]
     },
     "metadata": {},
     "output_type": "display_data"
    }
   ],
   "source": [
    "train_loader_composite_fixed, _, _ = load_mnist_dataloaders(\n",
    "    cache_dir,\n",
    "    composite_mode=True,\n",
    "    canvas_size=(56, 56),\n",
    "    num_digits=4,\n",
    "    placement='grid'  # or 'random'\n",
    ")\n",
    "show_first_image_from_loader(train_loader_composite_fixed)"
   ]
  },
  {
   "cell_type": "code",
   "execution_count": 64,
   "id": "c037254f",
   "metadata": {},
   "outputs": [
    {
     "name": "stdout",
     "output_type": "stream",
     "text": [
      "Generating composite dataset: /Users/anton/experiment_data/datasets/MNIST/725c29bdc0522b33c1cce2f3d57d0adc.pkl\n"
     ]
    },
    {
     "name": "stderr",
     "output_type": "stream",
     "text": [
      "Generating composite MNIST: 100%|██████████| 10000/10000 [00:03<00:00, 2694.86it/s]\n"
     ]
    },
    {
     "name": "stdout",
     "output_type": "stream",
     "text": [
      "Generating composite dataset: /Users/anton/experiment_data/datasets/MNIST/b757f040f5c004dfca8e8b11094894ae.pkl\n"
     ]
    },
    {
     "name": "stderr",
     "output_type": "stream",
     "text": [
      "Generating composite MNIST: 100%|██████████| 2000/2000 [00:00<00:00, 2835.98it/s]\n"
     ]
    },
    {
     "name": "stdout",
     "output_type": "stream",
     "text": [
      "Image shape:  torch.Size([36, 196])\n"
     ]
    },
    {
     "data": {
      "image/png": "[encoded data removed]",
      "text/plain": [
       "<Figure size 640x480 with 1 Axes>"
      ]
     },
     "metadata": {},
     "output_type": "display_data"
    }
   ],
   "source": [
    "train_loader_composite_random, _, _ = load_mnist_dataloaders(\n",
    "    cache_dir,\n",
    "    composite_mode=True,\n",
    "    canvas_size=(84, 84),\n",
    "    num_digits_range=(5, 9),\n",
    "    placement='random'\n",
    ")\n",
    "show_first_image_from_loader(train_loader_composite_random)"
   ]
  },
  {
   "cell_type": "code",
   "execution_count": 105,
   "id": "b19e697d",
   "metadata": {},
   "outputs": [
    {
     "name": "stdout",
     "output_type": "stream",
     "text": [
      "{'dataset': {'batch_size': 8,\n",
      "             'cache_dir': '/Users/anton/experiment_data/datasets',\n",
      "             'canvas_size_h': 56,\n",
      "             'canvas_size_w': 56,\n",
      "             'num_digits': 4,\n",
      "             'num_digits_range': [10, 20],\n",
      "             'num_images': 50000,\n",
      "             'num_images_test': 10000,\n",
      "             'num_patches': 16,\n",
      "             'patch_size': 14,\n",
      "             'placement': 'grid',\n",
      "             'valid_fraction': 0.2},\n",
      " 'log': {'project': 'vision_to_sequence', 'run_name': 'test', 'wandb': True},\n",
      " 'model': {'add_pos_emb': True,\n",
      "           'dot_product_norm': True,\n",
      "           'dropout': 0.0,\n",
      "           'embed_dim': 64,\n",
      "           'mlp_dim': 128,\n",
      "           'num_heads': 4,\n",
      "           'num_layers_decoder': 6,\n",
      "           'num_layers_encoder': 6,\n",
      "           'num_patches': 16,\n",
      "           'save_path_base': '/Users/anton/mlx/src/week3/models/vision_to_sequence'},\n",
      " 'train': {'epochs': 5, 'lr': 0.001, 'seed': 42}}\n"
     ]
    }
   ],
   "source": [
    "cfg = load_config(r\"/Users/anton/mlx/src/week3/config/default_seq2seq.yaml\")\n",
    "pprint(OmegaConf.to_container(cfg, resolve=True))"
   ]
  },
  {
   "cell_type": "code",
   "execution_count": 76,
   "id": "8d7ad8fd",
   "metadata": {},
   "outputs": [],
   "source": [
    "model = VisionToSequence(\n",
    "    cfg.dataset.patch_size * cfg.dataset.patch_size,\n",
    "    max_len=10,  # FIXME auto-detect this number\n",
    "    embed_dim=cfg.model.embed_dim,\n",
    "    num_heads=cfg.model.num_heads,\n",
    "    mlp_dim=cfg.model.mlp_dim,\n",
    "    num_layers_encoder=cfg.model.num_layers_encoder,\n",
    "    num_layers_decoder=cfg.model.num_layers_decoder,\n",
    "    num_patches=cfg.dataset.num_patches)\n"
   ]
  },
  {
   "cell_type": "code",
   "execution_count": 77,
   "id": "5cbfb54d",
   "metadata": {},
   "outputs": [
    {
     "data": {
      "text/plain": [
       "<All keys matched successfully>"
      ]
     },
     "execution_count": 77,
     "metadata": {},
     "output_type": "execute_result"
    }
   ],
   "source": [
    "model.load_state_dict(torch.load(r\"/Users/anton/mlx/src/week3/models/vision_to_sequence_20250625_191520_fabbw3wa.pt\", map_location='cpu'))"
   ]
  },
  {
   "cell_type": "code",
   "execution_count": 78,
   "id": "eec5b90d",
   "metadata": {},
   "outputs": [
    {
     "name": "stdout",
     "output_type": "stream",
     "text": [
      "Loading cached dataset: /Users/anton/experiment_data/datasets/MNIST/d5833fd2a1071c5cfd7909735a89a1b6.pkl\n",
      "Loading cached dataset: /Users/anton/experiment_data/datasets/MNIST/d42c047e612e9d8ad30138e6816454c5.pkl\n"
     ]
    }
   ],
   "source": [
    "train_loader, val_loader, test_loader = load_mnist_dataloaders(\n",
    "    cfg.dataset.cache_dir,\n",
    "    cfg.dataset.batch_size,\n",
    "    cfg.dataset.valid_fraction,\n",
    "    cfg.dataset.patch_size,\n",
    "    cfg.train.seed,\n",
    "    composite_mode=True,\n",
    "    canvas_size=(cfg.dataset.canvas_size_w, cfg.dataset.canvas_size_h),\n",
    "    num_digits=cfg.dataset.num_digits,\n",
    "    placement=cfg.dataset.placement,\n",
    "    num_digits_range=None, # TODO Support this cfg.dataset.num_digits_range,\n",
    "    num_images=cfg.dataset.num_images,\n",
    "    num_images_test=cfg.dataset.num_images_test)\n"
   ]
  },
  {
   "cell_type": "code",
   "execution_count": 82,
   "id": "de913866",
   "metadata": {},
   "outputs": [],
   "source": [
    "images, labels = next(iter(val_loader))"
   ]
  },
  {
   "cell_type": "code",
   "execution_count": 83,
   "id": "5fd294ad",
   "metadata": {},
   "outputs": [
    {
     "name": "stdout",
     "output_type": "stream",
     "text": [
      "Image shape:  torch.Size([16, 196])\n"
     ]
    },
    {
     "data": {
      "image/png": "[encoded data removed]",
      "text/plain": [
       "<Figure size 640x480 with 1 Axes>"
      ]
     },
     "metadata": {},
     "output_type": "display_data"
    }
   ],
   "source": [
    "show_image(images[0], labels[0])"
   ]
  },
  {
   "cell_type": "code",
   "execution_count": 92,
   "id": "b3876152",
   "metadata": {},
   "outputs": [
    {
     "data": {
      "text/plain": [
       "tensor([[[-0.4242, -0.4242, -0.4242,  ...,  2.7960,  2.7833,  2.7833],\n",
       "         [-0.4242, -0.4242, -0.4242,  ..., -0.4242, -0.4242, -0.4242],\n",
       "         [-0.4242, -0.4242, -0.4242,  ..., -0.4242, -0.4242, -0.4242],\n",
       "         ...,\n",
       "         [-0.4242,  1.6505,  2.4524,  ..., -0.4242, -0.4242, -0.4242],\n",
       "         [-0.4242, -0.4242, -0.4242,  ..., -0.4242, -0.4242, -0.4242],\n",
       "         [-0.4242, -0.4242, -0.4242,  ..., -0.4242, -0.4242, -0.4242]]])"
      ]
     },
     "execution_count": 92,
     "metadata": {},
     "output_type": "execute_result"
    }
   ],
   "source": [
    "images[0].unsqueeze(dim=0)"
   ]
  },
  {
   "cell_type": "code",
   "execution_count": 95,
   "id": "30fcb29a",
   "metadata": {},
   "outputs": [],
   "source": [
    "decoded_sequence = decode_sequence_greedy(model, images[0].unsqueeze(dim=0))"
   ]
  },
  {
   "cell_type": "code",
   "execution_count": 96,
   "id": "e736dbe3",
   "metadata": {},
   "outputs": [
    {
     "data": {
      "text/plain": [
       "[[9, 4, 4, 0]]"
      ]
     },
     "execution_count": 96,
     "metadata": {},
     "output_type": "execute_result"
    }
   ],
   "source": [
    "decoded_sequence"
   ]
  },
  {
   "cell_type": "code",
   "execution_count": 125,
   "id": "641d8098",
   "metadata": {},
   "outputs": [
    {
     "name": "stdout",
     "output_type": "stream",
     "text": [
      "{'dataset': {'batch_size': 8,\n",
      "             'cache_dir': '/Users/anton/experiment_data/datasets',\n",
      "             'canvas_size_h': 84,\n",
      "             'canvas_size_w': 84,\n",
      "             'grid_cols': 3,\n",
      "             'grid_rows': 3,\n",
      "             'num_digits': None,\n",
      "             'num_digits_range': [0, 9],\n",
      "             'num_images': 100000,\n",
      "             'num_images_test': 20000,\n",
      "             'num_patches': 36,\n",
      "             'patch_size': 14,\n",
      "             'placement': 'random',\n",
      "             'valid_fraction': 0.2},\n",
      " 'log': {'project': 'vision_to_sequence', 'run_name': 'test', 'wandb': True},\n",
      " 'model': {'add_pos_emb': True,\n",
      "           'dot_product_norm': True,\n",
      "           'dropout': 0.0,\n",
      "           'embed_dim': 256,\n",
      "           'mlp_dim': 128,\n",
      "           'num_heads': 8,\n",
      "           'num_layers_decoder': 6,\n",
      "           'num_layers_encoder': 6,\n",
      "           'num_patches': 36,\n",
      "           'save_path_base': '/Users/anton/mlx/src/week3/models/vision_to_sequence_random'},\n",
      " 'train': {'epochs': 10, 'lr': 0.0001, 'seed': 42}}\n"
     ]
    }
   ],
   "source": [
    "cfg = load_config(r\"/Users/anton/mlx/src/week3/config/default_seq2seq_random.yaml\")\n",
    "pprint(OmegaConf.to_container(cfg, resolve=True))"
   ]
  },
  {
   "cell_type": "code",
   "execution_count": 134,
   "id": "903b1dd5",
   "metadata": {},
   "outputs": [],
   "source": [
    "model = VisionToSequence(\n",
    "    cfg.dataset.patch_size * cfg.dataset.patch_size,\n",
    "    max_len=10,  # FIXME auto-detect this number\n",
    "    embed_dim=cfg.model.embed_dim,\n",
    "    num_heads=cfg.model.num_heads,\n",
    "    mlp_dim=cfg.model.mlp_dim,\n",
    "    num_layers_encoder=cfg.model.num_layers_encoder,\n",
    "    num_layers_decoder=cfg.model.num_layers_decoder,\n",
    "    num_patches=cfg.dataset.num_patches)"
   ]
  },
  {
   "cell_type": "code",
   "execution_count": 135,
   "id": "bb0c4534",
   "metadata": {},
   "outputs": [
    {
     "data": {
      "text/plain": [
       "<All keys matched successfully>"
      ]
     },
     "execution_count": 135,
     "metadata": {},
     "output_type": "execute_result"
    }
   ],
   "source": [
    "model.load_state_dict(torch.load(r\"/Users/anton/mlx/src/week3/models/vision_to_sequence_random_20250627_125335_ewred489.pt\", map_location='cpu'))"
   ]
  },
  {
   "cell_type": "code",
   "execution_count": 136,
   "id": "cb45fd83",
   "metadata": {},
   "outputs": [],
   "source": [
    "import onnx"
   ]
  },
  {
   "cell_type": "code",
   "execution_count": 120,
   "id": "b8fba874",
   "metadata": {},
   "outputs": [
    {
     "name": "stdout",
     "output_type": "stream",
     "text": [
      "Collecting onnx\n",
      "  Downloading onnx-1.18.0-cp311-cp311-macosx_12_0_universal2.whl.metadata (6.9 kB)\n",
      "Requirement already satisfied: numpy>=1.22 in /Users/anton/mlx/src/week3/.venv/lib/python3.11/site-packages (from onnx) (2.3.1)\n",
      "Requirement already satisfied: protobuf>=4.25.1 in /Users/anton/mlx/src/week3/.venv/lib/python3.11/site-packages (from onnx) (6.31.1)\n",
      "Requirement already satisfied: typing_extensions>=4.7.1 in /Users/anton/mlx/src/week3/.venv/lib/python3.11/site-packages (from onnx) (4.14.0)\n",
      "Downloading onnx-1.18.0-cp311-cp311-macosx_12_0_universal2.whl (18.3 MB)\n",
      "\u001b[2K   \u001b[90m━━━━━━━━━━━━━━━━━━━━━━━━━━━━━━━━━━━━━━━━\u001b[0m \u001b[32m18.3/18.3 MB\u001b[0m \u001b[31m6.7 MB/s\u001b[0m eta \u001b[36m0:00:00\u001b[0m00:01\u001b[0m00:01\u001b[0m\n",
      "\u001b[?25hInstalling collected packages: onnx\n",
      "Successfully installed onnx-1.18.0\n",
      "\n",
      "\u001b[1m[\u001b[0m\u001b[34;49mnotice\u001b[0m\u001b[1;39;49m]\u001b[0m\u001b[39;49m A new release of pip is available: \u001b[0m\u001b[31;49m24.0\u001b[0m\u001b[39;49m -> \u001b[0m\u001b[32;49m25.1.1\u001b[0m\n",
      "\u001b[1m[\u001b[0m\u001b[34;49mnotice\u001b[0m\u001b[1;39;49m]\u001b[0m\u001b[39;49m To update, run: \u001b[0m\u001b[32;49mpip3 install --upgrade pip\u001b[0m\n",
      "Note: you may need to restart the kernel to use updated packages.\n"
     ]
    }
   ],
   "source": [
    "%pip install onnx"
   ]
  },
  {
   "cell_type": "code",
   "execution_count": 137,
   "id": "38119ec0",
   "metadata": {},
   "outputs": [],
   "source": [
    "dummy_input = torch.randn(1, 36, 196)\n",
    "wrapped = InferenceWrapper(model)\n",
    "wrapped.eval()\n",
    "torch.onnx.export(wrapped, dummy_input, \"model.onnx\",\n",
    "                  input_names=['input'], output_names=['output'],\n",
    "                  dynamic_axes={'input': {0: 'batch'}, 'output': {0: 'batch'}})"
   ]
  },
  {
   "cell_type": "code",
   "execution_count": null,
   "id": "67a9ad64",
   "metadata": {},
   "outputs": [],
   "source": []
  }
 ],
 "metadata": {
  "kernelspec": {
   "display_name": ".venv",
   "language": "python",
   "name": "python3"
  },
  "language_info": {
   "codemirror_mode": {
    "name": "ipython",
    "version": 3
   },
   "file_extension": ".py",
   "mimetype": "text/x-python",
   "name": "python",
   "nbconvert_exporter": "python",
   "pygments_lexer": "ipython3",
   "version": "3.11.9"
  }
 },
 "nbformat": 4,
 "nbformat_minor": 5
}
